{
  "nbformat": 4,
  "nbformat_minor": 0,
  "metadata": {
    "colab": {
      "provenance": [],
      "collapsed_sections": []
    },
    "kernelspec": {
      "name": "python3",
      "display_name": "Python 3"
    },
    "language_info": {
      "name": "python"
    }
  },
  "cells": [
    {
      "cell_type": "code",
      "execution_count": 1,
      "metadata": {
        "id": "ZDVobLhbcYY7"
      },
      "outputs": [],
      "source": [
        "# import libraries\n",
        "import numpy as np\n",
        "import pandas as pd\n",
        "import matplotlib.pyplot as plt\n",
        "import seaborn as sns\n",
        "from sklearn.model_selection import train_test_split\n",
        "from sklearn.metrics import roc_auc_score\n",
        "from sklearn.tree import DecisionTreeClassifier\n",
        "from google.colab import files"
      ]
    },
    {
      "cell_type": "code",
      "source": [
        "# Uploading files\n",
        "uploaded = files.upload()"
      ],
      "metadata": {
        "id": "47QmeYIack6U"
      },
      "execution_count": null,
      "outputs": []
    },
    {
      "cell_type": "code",
      "source": [
        "!ls"
      ],
      "metadata": {
        "colab": {
          "base_uri": "https://localhost:8080/"
        },
        "id": "SF--wJnibSzv",
        "outputId": "48429ebf-fe49-4e06-f72d-9c7c2858a19f"
      },
      "execution_count": 3,
      "outputs": [
        {
          "output_type": "stream",
          "name": "stdout",
          "text": [
            "sample_data  takehome_user_engagement.csv  takehome_users.csv\n"
          ]
        }
      ]
    },
    {
      "cell_type": "code",
      "source": [
        "# Creating two data frames\n",
        "user_details = pd.read_csv(\"takehome_users.csv\", encoding = 'unicode_escape', engine ='python')\n",
        "user_eng     = pd.read_csv(\"takehome_user_engagement.csv\")"
      ],
      "metadata": {
        "id": "VdGQOqanc6ON"
      },
      "execution_count": 4,
      "outputs": []
    },
    {
      "cell_type": "code",
      "source": [
        "user_details.head()"
      ],
      "metadata": {
        "id": "Bl__Nmdae7h3",
        "colab": {
          "base_uri": "https://localhost:8080/",
          "height": 357
        },
        "outputId": "9763b129-1371-470c-ecdb-36428c77767b"
      },
      "execution_count": 5,
      "outputs": [
        {
          "output_type": "execute_result",
          "data": {
            "text/plain": [
              "   object_id        creation_time               name  \\\n",
              "0          1  2014-04-22 03:53:30     Clausen August   \n",
              "1          2  2013-11-15 03:45:04      Poole Matthew   \n",
              "2          3  2013-03-19 23:14:52  Bottrill Mitchell   \n",
              "3          4  2013-05-21 08:09:28    Clausen Nicklas   \n",
              "4          5  2013-01-17 10:14:20          Raw Grace   \n",
              "\n",
              "                        email creation_source  last_session_creation_time  \\\n",
              "0    AugustCClausen@yahoo.com    GUEST_INVITE                1.398139e+09   \n",
              "1      MatthewPoole@gustr.com      ORG_INVITE                1.396238e+09   \n",
              "2  MitchellBottrill@gustr.com      ORG_INVITE                1.363735e+09   \n",
              "3   NicklasSClausen@yahoo.com    GUEST_INVITE                1.369210e+09   \n",
              "4          GraceRaw@yahoo.com    GUEST_INVITE                1.358850e+09   \n",
              "\n",
              "   opted_in_to_mailing_list  enabled_for_marketing_drip  org_id  \\\n",
              "0                         1                           0      11   \n",
              "1                         0                           0       1   \n",
              "2                         0                           0      94   \n",
              "3                         0                           0       1   \n",
              "4                         0                           0     193   \n",
              "\n",
              "   invited_by_user_id  \n",
              "0             10803.0  \n",
              "1               316.0  \n",
              "2              1525.0  \n",
              "3              5151.0  \n",
              "4              5240.0  "
            ],
            "text/html": [
              "\n",
              "  <div id=\"df-dc36db0b-c06a-49aa-ad61-f647d7638638\">\n",
              "    <div class=\"colab-df-container\">\n",
              "      <div>\n",
              "<style scoped>\n",
              "    .dataframe tbody tr th:only-of-type {\n",
              "        vertical-align: middle;\n",
              "    }\n",
              "\n",
              "    .dataframe tbody tr th {\n",
              "        vertical-align: top;\n",
              "    }\n",
              "\n",
              "    .dataframe thead th {\n",
              "        text-align: right;\n",
              "    }\n",
              "</style>\n",
              "<table border=\"1\" class=\"dataframe\">\n",
              "  <thead>\n",
              "    <tr style=\"text-align: right;\">\n",
              "      <th></th>\n",
              "      <th>object_id</th>\n",
              "      <th>creation_time</th>\n",
              "      <th>name</th>\n",
              "      <th>email</th>\n",
              "      <th>creation_source</th>\n",
              "      <th>last_session_creation_time</th>\n",
              "      <th>opted_in_to_mailing_list</th>\n",
              "      <th>enabled_for_marketing_drip</th>\n",
              "      <th>org_id</th>\n",
              "      <th>invited_by_user_id</th>\n",
              "    </tr>\n",
              "  </thead>\n",
              "  <tbody>\n",
              "    <tr>\n",
              "      <th>0</th>\n",
              "      <td>1</td>\n",
              "      <td>2014-04-22 03:53:30</td>\n",
              "      <td>Clausen August</td>\n",
              "      <td>AugustCClausen@yahoo.com</td>\n",
              "      <td>GUEST_INVITE</td>\n",
              "      <td>1.398139e+09</td>\n",
              "      <td>1</td>\n",
              "      <td>0</td>\n",
              "      <td>11</td>\n",
              "      <td>10803.0</td>\n",
              "    </tr>\n",
              "    <tr>\n",
              "      <th>1</th>\n",
              "      <td>2</td>\n",
              "      <td>2013-11-15 03:45:04</td>\n",
              "      <td>Poole Matthew</td>\n",
              "      <td>MatthewPoole@gustr.com</td>\n",
              "      <td>ORG_INVITE</td>\n",
              "      <td>1.396238e+09</td>\n",
              "      <td>0</td>\n",
              "      <td>0</td>\n",
              "      <td>1</td>\n",
              "      <td>316.0</td>\n",
              "    </tr>\n",
              "    <tr>\n",
              "      <th>2</th>\n",
              "      <td>3</td>\n",
              "      <td>2013-03-19 23:14:52</td>\n",
              "      <td>Bottrill Mitchell</td>\n",
              "      <td>MitchellBottrill@gustr.com</td>\n",
              "      <td>ORG_INVITE</td>\n",
              "      <td>1.363735e+09</td>\n",
              "      <td>0</td>\n",
              "      <td>0</td>\n",
              "      <td>94</td>\n",
              "      <td>1525.0</td>\n",
              "    </tr>\n",
              "    <tr>\n",
              "      <th>3</th>\n",
              "      <td>4</td>\n",
              "      <td>2013-05-21 08:09:28</td>\n",
              "      <td>Clausen Nicklas</td>\n",
              "      <td>NicklasSClausen@yahoo.com</td>\n",
              "      <td>GUEST_INVITE</td>\n",
              "      <td>1.369210e+09</td>\n",
              "      <td>0</td>\n",
              "      <td>0</td>\n",
              "      <td>1</td>\n",
              "      <td>5151.0</td>\n",
              "    </tr>\n",
              "    <tr>\n",
              "      <th>4</th>\n",
              "      <td>5</td>\n",
              "      <td>2013-01-17 10:14:20</td>\n",
              "      <td>Raw Grace</td>\n",
              "      <td>GraceRaw@yahoo.com</td>\n",
              "      <td>GUEST_INVITE</td>\n",
              "      <td>1.358850e+09</td>\n",
              "      <td>0</td>\n",
              "      <td>0</td>\n",
              "      <td>193</td>\n",
              "      <td>5240.0</td>\n",
              "    </tr>\n",
              "  </tbody>\n",
              "</table>\n",
              "</div>\n",
              "      <button class=\"colab-df-convert\" onclick=\"convertToInteractive('df-dc36db0b-c06a-49aa-ad61-f647d7638638')\"\n",
              "              title=\"Convert this dataframe to an interactive table.\"\n",
              "              style=\"display:none;\">\n",
              "        \n",
              "  <svg xmlns=\"http://www.w3.org/2000/svg\" height=\"24px\"viewBox=\"0 0 24 24\"\n",
              "       width=\"24px\">\n",
              "    <path d=\"M0 0h24v24H0V0z\" fill=\"none\"/>\n",
              "    <path d=\"M18.56 5.44l.94 2.06.94-2.06 2.06-.94-2.06-.94-.94-2.06-.94 2.06-2.06.94zm-11 1L8.5 8.5l.94-2.06 2.06-.94-2.06-.94L8.5 2.5l-.94 2.06-2.06.94zm10 10l.94 2.06.94-2.06 2.06-.94-2.06-.94-.94-2.06-.94 2.06-2.06.94z\"/><path d=\"M17.41 7.96l-1.37-1.37c-.4-.4-.92-.59-1.43-.59-.52 0-1.04.2-1.43.59L10.3 9.45l-7.72 7.72c-.78.78-.78 2.05 0 2.83L4 21.41c.39.39.9.59 1.41.59.51 0 1.02-.2 1.41-.59l7.78-7.78 2.81-2.81c.8-.78.8-2.07 0-2.86zM5.41 20L4 18.59l7.72-7.72 1.47 1.35L5.41 20z\"/>\n",
              "  </svg>\n",
              "      </button>\n",
              "      \n",
              "  <style>\n",
              "    .colab-df-container {\n",
              "      display:flex;\n",
              "      flex-wrap:wrap;\n",
              "      gap: 12px;\n",
              "    }\n",
              "\n",
              "    .colab-df-convert {\n",
              "      background-color: #E8F0FE;\n",
              "      border: none;\n",
              "      border-radius: 50%;\n",
              "      cursor: pointer;\n",
              "      display: none;\n",
              "      fill: #1967D2;\n",
              "      height: 32px;\n",
              "      padding: 0 0 0 0;\n",
              "      width: 32px;\n",
              "    }\n",
              "\n",
              "    .colab-df-convert:hover {\n",
              "      background-color: #E2EBFA;\n",
              "      box-shadow: 0px 1px 2px rgba(60, 64, 67, 0.3), 0px 1px 3px 1px rgba(60, 64, 67, 0.15);\n",
              "      fill: #174EA6;\n",
              "    }\n",
              "\n",
              "    [theme=dark] .colab-df-convert {\n",
              "      background-color: #3B4455;\n",
              "      fill: #D2E3FC;\n",
              "    }\n",
              "\n",
              "    [theme=dark] .colab-df-convert:hover {\n",
              "      background-color: #434B5C;\n",
              "      box-shadow: 0px 1px 3px 1px rgba(0, 0, 0, 0.15);\n",
              "      filter: drop-shadow(0px 1px 2px rgba(0, 0, 0, 0.3));\n",
              "      fill: #FFFFFF;\n",
              "    }\n",
              "  </style>\n",
              "\n",
              "      <script>\n",
              "        const buttonEl =\n",
              "          document.querySelector('#df-dc36db0b-c06a-49aa-ad61-f647d7638638 button.colab-df-convert');\n",
              "        buttonEl.style.display =\n",
              "          google.colab.kernel.accessAllowed ? 'block' : 'none';\n",
              "\n",
              "        async function convertToInteractive(key) {\n",
              "          const element = document.querySelector('#df-dc36db0b-c06a-49aa-ad61-f647d7638638');\n",
              "          const dataTable =\n",
              "            await google.colab.kernel.invokeFunction('convertToInteractive',\n",
              "                                                     [key], {});\n",
              "          if (!dataTable) return;\n",
              "\n",
              "          const docLinkHtml = 'Like what you see? Visit the ' +\n",
              "            '<a target=\"_blank\" href=https://colab.research.google.com/notebooks/data_table.ipynb>data table notebook</a>'\n",
              "            + ' to learn more about interactive tables.';\n",
              "          element.innerHTML = '';\n",
              "          dataTable['output_type'] = 'display_data';\n",
              "          await google.colab.output.renderOutput(dataTable, element);\n",
              "          const docLink = document.createElement('div');\n",
              "          docLink.innerHTML = docLinkHtml;\n",
              "          element.appendChild(docLink);\n",
              "        }\n",
              "      </script>\n",
              "    </div>\n",
              "  </div>\n",
              "  "
            ]
          },
          "metadata": {},
          "execution_count": 5
        }
      ]
    },
    {
      "cell_type": "code",
      "source": [
        "user_details.info()"
      ],
      "metadata": {
        "colab": {
          "base_uri": "https://localhost:8080/"
        },
        "id": "Gst-Fe4kboWC",
        "outputId": "fa67f69f-cf73-4131-9499-d7b63be202e4"
      },
      "execution_count": 6,
      "outputs": [
        {
          "output_type": "stream",
          "name": "stdout",
          "text": [
            "<class 'pandas.core.frame.DataFrame'>\n",
            "RangeIndex: 12000 entries, 0 to 11999\n",
            "Data columns (total 10 columns):\n",
            " #   Column                      Non-Null Count  Dtype  \n",
            "---  ------                      --------------  -----  \n",
            " 0   object_id                   12000 non-null  int64  \n",
            " 1   creation_time               12000 non-null  object \n",
            " 2   name                        12000 non-null  object \n",
            " 3   email                       12000 non-null  object \n",
            " 4   creation_source             12000 non-null  object \n",
            " 5   last_session_creation_time  8823 non-null   float64\n",
            " 6   opted_in_to_mailing_list    12000 non-null  int64  \n",
            " 7   enabled_for_marketing_drip  12000 non-null  int64  \n",
            " 8   org_id                      12000 non-null  int64  \n",
            " 9   invited_by_user_id          6417 non-null   float64\n",
            "dtypes: float64(2), int64(4), object(4)\n",
            "memory usage: 937.6+ KB\n"
          ]
        }
      ]
    },
    {
      "cell_type": "markdown",
      "source": [
        "We can see, there are two columns \"last_session_creation_time\" and \"invited_by_user_id\" having several null values. However, the meaning of these two null-values are different.\n",
        "\n",
        "\n",
        "*   \"last_session_creation_time\" null = missing data. These users didn't log in after creating their account. Here we can use creation time to replace them.\n",
        "*   \"invited_by_user_id\"  null = the person joined individually. Here, we can replace them with a unique value, such as 0.\n",
        "\n"
      ],
      "metadata": {
        "id": "D9NKrzLKb1_J"
      }
    },
    {
      "cell_type": "code",
      "source": [
        "# Converting to proper datetime format\n",
        "user_details[\"creation_time\"]              = pd.to_datetime(\n",
        "    user_details[\"creation_time\"])\n",
        "user_details['last_session_creation_time'] =  pd.to_datetime(\n",
        "    user_details['last_session_creation_time'],unit='s')"
      ],
      "metadata": {
        "id": "c16j3FQjdRCX"
      },
      "execution_count": 7,
      "outputs": []
    },
    {
      "cell_type": "code",
      "source": [
        "user_details.head()"
      ],
      "metadata": {
        "colab": {
          "base_uri": "https://localhost:8080/",
          "height": 357
        },
        "id": "nnBan9_Tb1oz",
        "outputId": "441df470-bcb8-4e37-cdb1-1de6668483a0"
      },
      "execution_count": 8,
      "outputs": [
        {
          "output_type": "execute_result",
          "data": {
            "text/plain": [
              "   object_id       creation_time               name  \\\n",
              "0          1 2014-04-22 03:53:30     Clausen August   \n",
              "1          2 2013-11-15 03:45:04      Poole Matthew   \n",
              "2          3 2013-03-19 23:14:52  Bottrill Mitchell   \n",
              "3          4 2013-05-21 08:09:28    Clausen Nicklas   \n",
              "4          5 2013-01-17 10:14:20          Raw Grace   \n",
              "\n",
              "                        email creation_source last_session_creation_time  \\\n",
              "0    AugustCClausen@yahoo.com    GUEST_INVITE        2014-04-22 03:53:30   \n",
              "1      MatthewPoole@gustr.com      ORG_INVITE        2014-03-31 03:45:04   \n",
              "2  MitchellBottrill@gustr.com      ORG_INVITE        2013-03-19 23:14:52   \n",
              "3   NicklasSClausen@yahoo.com    GUEST_INVITE        2013-05-22 08:09:28   \n",
              "4          GraceRaw@yahoo.com    GUEST_INVITE        2013-01-22 10:14:20   \n",
              "\n",
              "   opted_in_to_mailing_list  enabled_for_marketing_drip  org_id  \\\n",
              "0                         1                           0      11   \n",
              "1                         0                           0       1   \n",
              "2                         0                           0      94   \n",
              "3                         0                           0       1   \n",
              "4                         0                           0     193   \n",
              "\n",
              "   invited_by_user_id  \n",
              "0             10803.0  \n",
              "1               316.0  \n",
              "2              1525.0  \n",
              "3              5151.0  \n",
              "4              5240.0  "
            ],
            "text/html": [
              "\n",
              "  <div id=\"df-9962836d-e5d5-4dae-be9c-faa756474bab\">\n",
              "    <div class=\"colab-df-container\">\n",
              "      <div>\n",
              "<style scoped>\n",
              "    .dataframe tbody tr th:only-of-type {\n",
              "        vertical-align: middle;\n",
              "    }\n",
              "\n",
              "    .dataframe tbody tr th {\n",
              "        vertical-align: top;\n",
              "    }\n",
              "\n",
              "    .dataframe thead th {\n",
              "        text-align: right;\n",
              "    }\n",
              "</style>\n",
              "<table border=\"1\" class=\"dataframe\">\n",
              "  <thead>\n",
              "    <tr style=\"text-align: right;\">\n",
              "      <th></th>\n",
              "      <th>object_id</th>\n",
              "      <th>creation_time</th>\n",
              "      <th>name</th>\n",
              "      <th>email</th>\n",
              "      <th>creation_source</th>\n",
              "      <th>last_session_creation_time</th>\n",
              "      <th>opted_in_to_mailing_list</th>\n",
              "      <th>enabled_for_marketing_drip</th>\n",
              "      <th>org_id</th>\n",
              "      <th>invited_by_user_id</th>\n",
              "    </tr>\n",
              "  </thead>\n",
              "  <tbody>\n",
              "    <tr>\n",
              "      <th>0</th>\n",
              "      <td>1</td>\n",
              "      <td>2014-04-22 03:53:30</td>\n",
              "      <td>Clausen August</td>\n",
              "      <td>AugustCClausen@yahoo.com</td>\n",
              "      <td>GUEST_INVITE</td>\n",
              "      <td>2014-04-22 03:53:30</td>\n",
              "      <td>1</td>\n",
              "      <td>0</td>\n",
              "      <td>11</td>\n",
              "      <td>10803.0</td>\n",
              "    </tr>\n",
              "    <tr>\n",
              "      <th>1</th>\n",
              "      <td>2</td>\n",
              "      <td>2013-11-15 03:45:04</td>\n",
              "      <td>Poole Matthew</td>\n",
              "      <td>MatthewPoole@gustr.com</td>\n",
              "      <td>ORG_INVITE</td>\n",
              "      <td>2014-03-31 03:45:04</td>\n",
              "      <td>0</td>\n",
              "      <td>0</td>\n",
              "      <td>1</td>\n",
              "      <td>316.0</td>\n",
              "    </tr>\n",
              "    <tr>\n",
              "      <th>2</th>\n",
              "      <td>3</td>\n",
              "      <td>2013-03-19 23:14:52</td>\n",
              "      <td>Bottrill Mitchell</td>\n",
              "      <td>MitchellBottrill@gustr.com</td>\n",
              "      <td>ORG_INVITE</td>\n",
              "      <td>2013-03-19 23:14:52</td>\n",
              "      <td>0</td>\n",
              "      <td>0</td>\n",
              "      <td>94</td>\n",
              "      <td>1525.0</td>\n",
              "    </tr>\n",
              "    <tr>\n",
              "      <th>3</th>\n",
              "      <td>4</td>\n",
              "      <td>2013-05-21 08:09:28</td>\n",
              "      <td>Clausen Nicklas</td>\n",
              "      <td>NicklasSClausen@yahoo.com</td>\n",
              "      <td>GUEST_INVITE</td>\n",
              "      <td>2013-05-22 08:09:28</td>\n",
              "      <td>0</td>\n",
              "      <td>0</td>\n",
              "      <td>1</td>\n",
              "      <td>5151.0</td>\n",
              "    </tr>\n",
              "    <tr>\n",
              "      <th>4</th>\n",
              "      <td>5</td>\n",
              "      <td>2013-01-17 10:14:20</td>\n",
              "      <td>Raw Grace</td>\n",
              "      <td>GraceRaw@yahoo.com</td>\n",
              "      <td>GUEST_INVITE</td>\n",
              "      <td>2013-01-22 10:14:20</td>\n",
              "      <td>0</td>\n",
              "      <td>0</td>\n",
              "      <td>193</td>\n",
              "      <td>5240.0</td>\n",
              "    </tr>\n",
              "  </tbody>\n",
              "</table>\n",
              "</div>\n",
              "      <button class=\"colab-df-convert\" onclick=\"convertToInteractive('df-9962836d-e5d5-4dae-be9c-faa756474bab')\"\n",
              "              title=\"Convert this dataframe to an interactive table.\"\n",
              "              style=\"display:none;\">\n",
              "        \n",
              "  <svg xmlns=\"http://www.w3.org/2000/svg\" height=\"24px\"viewBox=\"0 0 24 24\"\n",
              "       width=\"24px\">\n",
              "    <path d=\"M0 0h24v24H0V0z\" fill=\"none\"/>\n",
              "    <path d=\"M18.56 5.44l.94 2.06.94-2.06 2.06-.94-2.06-.94-.94-2.06-.94 2.06-2.06.94zm-11 1L8.5 8.5l.94-2.06 2.06-.94-2.06-.94L8.5 2.5l-.94 2.06-2.06.94zm10 10l.94 2.06.94-2.06 2.06-.94-2.06-.94-.94-2.06-.94 2.06-2.06.94z\"/><path d=\"M17.41 7.96l-1.37-1.37c-.4-.4-.92-.59-1.43-.59-.52 0-1.04.2-1.43.59L10.3 9.45l-7.72 7.72c-.78.78-.78 2.05 0 2.83L4 21.41c.39.39.9.59 1.41.59.51 0 1.02-.2 1.41-.59l7.78-7.78 2.81-2.81c.8-.78.8-2.07 0-2.86zM5.41 20L4 18.59l7.72-7.72 1.47 1.35L5.41 20z\"/>\n",
              "  </svg>\n",
              "      </button>\n",
              "      \n",
              "  <style>\n",
              "    .colab-df-container {\n",
              "      display:flex;\n",
              "      flex-wrap:wrap;\n",
              "      gap: 12px;\n",
              "    }\n",
              "\n",
              "    .colab-df-convert {\n",
              "      background-color: #E8F0FE;\n",
              "      border: none;\n",
              "      border-radius: 50%;\n",
              "      cursor: pointer;\n",
              "      display: none;\n",
              "      fill: #1967D2;\n",
              "      height: 32px;\n",
              "      padding: 0 0 0 0;\n",
              "      width: 32px;\n",
              "    }\n",
              "\n",
              "    .colab-df-convert:hover {\n",
              "      background-color: #E2EBFA;\n",
              "      box-shadow: 0px 1px 2px rgba(60, 64, 67, 0.3), 0px 1px 3px 1px rgba(60, 64, 67, 0.15);\n",
              "      fill: #174EA6;\n",
              "    }\n",
              "\n",
              "    [theme=dark] .colab-df-convert {\n",
              "      background-color: #3B4455;\n",
              "      fill: #D2E3FC;\n",
              "    }\n",
              "\n",
              "    [theme=dark] .colab-df-convert:hover {\n",
              "      background-color: #434B5C;\n",
              "      box-shadow: 0px 1px 3px 1px rgba(0, 0, 0, 0.15);\n",
              "      filter: drop-shadow(0px 1px 2px rgba(0, 0, 0, 0.3));\n",
              "      fill: #FFFFFF;\n",
              "    }\n",
              "  </style>\n",
              "\n",
              "      <script>\n",
              "        const buttonEl =\n",
              "          document.querySelector('#df-9962836d-e5d5-4dae-be9c-faa756474bab button.colab-df-convert');\n",
              "        buttonEl.style.display =\n",
              "          google.colab.kernel.accessAllowed ? 'block' : 'none';\n",
              "\n",
              "        async function convertToInteractive(key) {\n",
              "          const element = document.querySelector('#df-9962836d-e5d5-4dae-be9c-faa756474bab');\n",
              "          const dataTable =\n",
              "            await google.colab.kernel.invokeFunction('convertToInteractive',\n",
              "                                                     [key], {});\n",
              "          if (!dataTable) return;\n",
              "\n",
              "          const docLinkHtml = 'Like what you see? Visit the ' +\n",
              "            '<a target=\"_blank\" href=https://colab.research.google.com/notebooks/data_table.ipynb>data table notebook</a>'\n",
              "            + ' to learn more about interactive tables.';\n",
              "          element.innerHTML = '';\n",
              "          dataTable['output_type'] = 'display_data';\n",
              "          await google.colab.output.renderOutput(dataTable, element);\n",
              "          const docLink = document.createElement('div');\n",
              "          docLink.innerHTML = docLinkHtml;\n",
              "          element.appendChild(docLink);\n",
              "        }\n",
              "      </script>\n",
              "    </div>\n",
              "  </div>\n",
              "  "
            ]
          },
          "metadata": {},
          "execution_count": 8
        }
      ]
    },
    {
      "cell_type": "code",
      "source": [
        "# Checking the user engagement df\n",
        "user_eng.head()"
      ],
      "metadata": {
        "colab": {
          "base_uri": "https://localhost:8080/",
          "height": 206
        },
        "id": "vRDEZxfRiiOI",
        "outputId": "22003224-ecfd-4820-bea5-23575b773486"
      },
      "execution_count": 9,
      "outputs": [
        {
          "output_type": "execute_result",
          "data": {
            "text/plain": [
              "            time_stamp  user_id  visited\n",
              "0  2014-04-22 03:53:30        1        1\n",
              "1  2013-11-15 03:45:04        2        1\n",
              "2  2013-11-29 03:45:04        2        1\n",
              "3  2013-12-09 03:45:04        2        1\n",
              "4  2013-12-25 03:45:04        2        1"
            ],
            "text/html": [
              "\n",
              "  <div id=\"df-f7fb6639-65b5-4d4f-b20c-964865aa475d\">\n",
              "    <div class=\"colab-df-container\">\n",
              "      <div>\n",
              "<style scoped>\n",
              "    .dataframe tbody tr th:only-of-type {\n",
              "        vertical-align: middle;\n",
              "    }\n",
              "\n",
              "    .dataframe tbody tr th {\n",
              "        vertical-align: top;\n",
              "    }\n",
              "\n",
              "    .dataframe thead th {\n",
              "        text-align: right;\n",
              "    }\n",
              "</style>\n",
              "<table border=\"1\" class=\"dataframe\">\n",
              "  <thead>\n",
              "    <tr style=\"text-align: right;\">\n",
              "      <th></th>\n",
              "      <th>time_stamp</th>\n",
              "      <th>user_id</th>\n",
              "      <th>visited</th>\n",
              "    </tr>\n",
              "  </thead>\n",
              "  <tbody>\n",
              "    <tr>\n",
              "      <th>0</th>\n",
              "      <td>2014-04-22 03:53:30</td>\n",
              "      <td>1</td>\n",
              "      <td>1</td>\n",
              "    </tr>\n",
              "    <tr>\n",
              "      <th>1</th>\n",
              "      <td>2013-11-15 03:45:04</td>\n",
              "      <td>2</td>\n",
              "      <td>1</td>\n",
              "    </tr>\n",
              "    <tr>\n",
              "      <th>2</th>\n",
              "      <td>2013-11-29 03:45:04</td>\n",
              "      <td>2</td>\n",
              "      <td>1</td>\n",
              "    </tr>\n",
              "    <tr>\n",
              "      <th>3</th>\n",
              "      <td>2013-12-09 03:45:04</td>\n",
              "      <td>2</td>\n",
              "      <td>1</td>\n",
              "    </tr>\n",
              "    <tr>\n",
              "      <th>4</th>\n",
              "      <td>2013-12-25 03:45:04</td>\n",
              "      <td>2</td>\n",
              "      <td>1</td>\n",
              "    </tr>\n",
              "  </tbody>\n",
              "</table>\n",
              "</div>\n",
              "      <button class=\"colab-df-convert\" onclick=\"convertToInteractive('df-f7fb6639-65b5-4d4f-b20c-964865aa475d')\"\n",
              "              title=\"Convert this dataframe to an interactive table.\"\n",
              "              style=\"display:none;\">\n",
              "        \n",
              "  <svg xmlns=\"http://www.w3.org/2000/svg\" height=\"24px\"viewBox=\"0 0 24 24\"\n",
              "       width=\"24px\">\n",
              "    <path d=\"M0 0h24v24H0V0z\" fill=\"none\"/>\n",
              "    <path d=\"M18.56 5.44l.94 2.06.94-2.06 2.06-.94-2.06-.94-.94-2.06-.94 2.06-2.06.94zm-11 1L8.5 8.5l.94-2.06 2.06-.94-2.06-.94L8.5 2.5l-.94 2.06-2.06.94zm10 10l.94 2.06.94-2.06 2.06-.94-2.06-.94-.94-2.06-.94 2.06-2.06.94z\"/><path d=\"M17.41 7.96l-1.37-1.37c-.4-.4-.92-.59-1.43-.59-.52 0-1.04.2-1.43.59L10.3 9.45l-7.72 7.72c-.78.78-.78 2.05 0 2.83L4 21.41c.39.39.9.59 1.41.59.51 0 1.02-.2 1.41-.59l7.78-7.78 2.81-2.81c.8-.78.8-2.07 0-2.86zM5.41 20L4 18.59l7.72-7.72 1.47 1.35L5.41 20z\"/>\n",
              "  </svg>\n",
              "      </button>\n",
              "      \n",
              "  <style>\n",
              "    .colab-df-container {\n",
              "      display:flex;\n",
              "      flex-wrap:wrap;\n",
              "      gap: 12px;\n",
              "    }\n",
              "\n",
              "    .colab-df-convert {\n",
              "      background-color: #E8F0FE;\n",
              "      border: none;\n",
              "      border-radius: 50%;\n",
              "      cursor: pointer;\n",
              "      display: none;\n",
              "      fill: #1967D2;\n",
              "      height: 32px;\n",
              "      padding: 0 0 0 0;\n",
              "      width: 32px;\n",
              "    }\n",
              "\n",
              "    .colab-df-convert:hover {\n",
              "      background-color: #E2EBFA;\n",
              "      box-shadow: 0px 1px 2px rgba(60, 64, 67, 0.3), 0px 1px 3px 1px rgba(60, 64, 67, 0.15);\n",
              "      fill: #174EA6;\n",
              "    }\n",
              "\n",
              "    [theme=dark] .colab-df-convert {\n",
              "      background-color: #3B4455;\n",
              "      fill: #D2E3FC;\n",
              "    }\n",
              "\n",
              "    [theme=dark] .colab-df-convert:hover {\n",
              "      background-color: #434B5C;\n",
              "      box-shadow: 0px 1px 3px 1px rgba(0, 0, 0, 0.15);\n",
              "      filter: drop-shadow(0px 1px 2px rgba(0, 0, 0, 0.3));\n",
              "      fill: #FFFFFF;\n",
              "    }\n",
              "  </style>\n",
              "\n",
              "      <script>\n",
              "        const buttonEl =\n",
              "          document.querySelector('#df-f7fb6639-65b5-4d4f-b20c-964865aa475d button.colab-df-convert');\n",
              "        buttonEl.style.display =\n",
              "          google.colab.kernel.accessAllowed ? 'block' : 'none';\n",
              "\n",
              "        async function convertToInteractive(key) {\n",
              "          const element = document.querySelector('#df-f7fb6639-65b5-4d4f-b20c-964865aa475d');\n",
              "          const dataTable =\n",
              "            await google.colab.kernel.invokeFunction('convertToInteractive',\n",
              "                                                     [key], {});\n",
              "          if (!dataTable) return;\n",
              "\n",
              "          const docLinkHtml = 'Like what you see? Visit the ' +\n",
              "            '<a target=\"_blank\" href=https://colab.research.google.com/notebooks/data_table.ipynb>data table notebook</a>'\n",
              "            + ' to learn more about interactive tables.';\n",
              "          element.innerHTML = '';\n",
              "          dataTable['output_type'] = 'display_data';\n",
              "          await google.colab.output.renderOutput(dataTable, element);\n",
              "          const docLink = document.createElement('div');\n",
              "          docLink.innerHTML = docLinkHtml;\n",
              "          element.appendChild(docLink);\n",
              "        }\n",
              "      </script>\n",
              "    </div>\n",
              "  </div>\n",
              "  "
            ]
          },
          "metadata": {},
          "execution_count": 9
        }
      ]
    },
    {
      "cell_type": "code",
      "source": [
        "user_eng.shape"
      ],
      "metadata": {
        "colab": {
          "base_uri": "https://localhost:8080/"
        },
        "id": "u3u7jb2XH6zA",
        "outputId": "970caac5-7153-4eda-cb5b-021e3bcde1d2"
      },
      "execution_count": 10,
      "outputs": [
        {
          "output_type": "execute_result",
          "data": {
            "text/plain": [
              "(207917, 3)"
            ]
          },
          "metadata": {},
          "execution_count": 10
        }
      ]
    },
    {
      "cell_type": "code",
      "source": [
        "# Number of unique users present\n",
        "user_eng[\"user_id\"].nunique()"
      ],
      "metadata": {
        "colab": {
          "base_uri": "https://localhost:8080/"
        },
        "id": "fQ58R0BNIEcw",
        "outputId": "78b5b17e-dd70-449a-9676-3fa6f1b5a3e3"
      },
      "execution_count": 11,
      "outputs": [
        {
          "output_type": "execute_result",
          "data": {
            "text/plain": [
              "8823"
            ]
          },
          "metadata": {},
          "execution_count": 11
        }
      ]
    },
    {
      "cell_type": "code",
      "source": [
        "user_eng.dtypes"
      ],
      "metadata": {
        "colab": {
          "base_uri": "https://localhost:8080/"
        },
        "id": "7bdjbu_qikCw",
        "outputId": "921dbef3-004c-471d-de60-fca29d0b2cbc"
      },
      "execution_count": 12,
      "outputs": [
        {
          "output_type": "execute_result",
          "data": {
            "text/plain": [
              "time_stamp    object\n",
              "user_id        int64\n",
              "visited        int64\n",
              "dtype: object"
            ]
          },
          "metadata": {},
          "execution_count": 12
        }
      ]
    },
    {
      "cell_type": "code",
      "source": [
        "# Converting the time_stamp to proper date time format\n",
        "user_eng[\"time_stamp\"] = pd.to_datetime(user_eng[\"time_stamp\"])"
      ],
      "metadata": {
        "id": "hmrHtj-6yFma"
      },
      "execution_count": 13,
      "outputs": []
    },
    {
      "cell_type": "code",
      "source": [
        "user_eng.dtypes"
      ],
      "metadata": {
        "colab": {
          "base_uri": "https://localhost:8080/"
        },
        "id": "_11JwXd1fUJG",
        "outputId": "bde8fc03-a849-4e11-dc48-31ce59e3616d"
      },
      "execution_count": 14,
      "outputs": [
        {
          "output_type": "execute_result",
          "data": {
            "text/plain": [
              "time_stamp    datetime64[ns]\n",
              "user_id                int64\n",
              "visited                int64\n",
              "dtype: object"
            ]
          },
          "metadata": {},
          "execution_count": 14
        }
      ]
    },
    {
      "cell_type": "code",
      "source": [
        "# Extracting dates from time_stamp\n",
        "user_eng['Date'] = pd.to_datetime(user_eng.time_stamp.dt.date)"
      ],
      "metadata": {
        "id": "VLoHlmqzf6nx"
      },
      "execution_count": 15,
      "outputs": []
    },
    {
      "cell_type": "code",
      "source": [
        "user_eng.head()"
      ],
      "metadata": {
        "colab": {
          "base_uri": "https://localhost:8080/",
          "height": 206
        },
        "id": "b5Ba9I9pgAc3",
        "outputId": "127093ca-978b-419a-e846-29e6ec49f83e"
      },
      "execution_count": 16,
      "outputs": [
        {
          "output_type": "execute_result",
          "data": {
            "text/plain": [
              "           time_stamp  user_id  visited       Date\n",
              "0 2014-04-22 03:53:30        1        1 2014-04-22\n",
              "1 2013-11-15 03:45:04        2        1 2013-11-15\n",
              "2 2013-11-29 03:45:04        2        1 2013-11-29\n",
              "3 2013-12-09 03:45:04        2        1 2013-12-09\n",
              "4 2013-12-25 03:45:04        2        1 2013-12-25"
            ],
            "text/html": [
              "\n",
              "  <div id=\"df-ee3e4488-b5ab-4c76-a970-e0676bed2fda\">\n",
              "    <div class=\"colab-df-container\">\n",
              "      <div>\n",
              "<style scoped>\n",
              "    .dataframe tbody tr th:only-of-type {\n",
              "        vertical-align: middle;\n",
              "    }\n",
              "\n",
              "    .dataframe tbody tr th {\n",
              "        vertical-align: top;\n",
              "    }\n",
              "\n",
              "    .dataframe thead th {\n",
              "        text-align: right;\n",
              "    }\n",
              "</style>\n",
              "<table border=\"1\" class=\"dataframe\">\n",
              "  <thead>\n",
              "    <tr style=\"text-align: right;\">\n",
              "      <th></th>\n",
              "      <th>time_stamp</th>\n",
              "      <th>user_id</th>\n",
              "      <th>visited</th>\n",
              "      <th>Date</th>\n",
              "    </tr>\n",
              "  </thead>\n",
              "  <tbody>\n",
              "    <tr>\n",
              "      <th>0</th>\n",
              "      <td>2014-04-22 03:53:30</td>\n",
              "      <td>1</td>\n",
              "      <td>1</td>\n",
              "      <td>2014-04-22</td>\n",
              "    </tr>\n",
              "    <tr>\n",
              "      <th>1</th>\n",
              "      <td>2013-11-15 03:45:04</td>\n",
              "      <td>2</td>\n",
              "      <td>1</td>\n",
              "      <td>2013-11-15</td>\n",
              "    </tr>\n",
              "    <tr>\n",
              "      <th>2</th>\n",
              "      <td>2013-11-29 03:45:04</td>\n",
              "      <td>2</td>\n",
              "      <td>1</td>\n",
              "      <td>2013-11-29</td>\n",
              "    </tr>\n",
              "    <tr>\n",
              "      <th>3</th>\n",
              "      <td>2013-12-09 03:45:04</td>\n",
              "      <td>2</td>\n",
              "      <td>1</td>\n",
              "      <td>2013-12-09</td>\n",
              "    </tr>\n",
              "    <tr>\n",
              "      <th>4</th>\n",
              "      <td>2013-12-25 03:45:04</td>\n",
              "      <td>2</td>\n",
              "      <td>1</td>\n",
              "      <td>2013-12-25</td>\n",
              "    </tr>\n",
              "  </tbody>\n",
              "</table>\n",
              "</div>\n",
              "      <button class=\"colab-df-convert\" onclick=\"convertToInteractive('df-ee3e4488-b5ab-4c76-a970-e0676bed2fda')\"\n",
              "              title=\"Convert this dataframe to an interactive table.\"\n",
              "              style=\"display:none;\">\n",
              "        \n",
              "  <svg xmlns=\"http://www.w3.org/2000/svg\" height=\"24px\"viewBox=\"0 0 24 24\"\n",
              "       width=\"24px\">\n",
              "    <path d=\"M0 0h24v24H0V0z\" fill=\"none\"/>\n",
              "    <path d=\"M18.56 5.44l.94 2.06.94-2.06 2.06-.94-2.06-.94-.94-2.06-.94 2.06-2.06.94zm-11 1L8.5 8.5l.94-2.06 2.06-.94-2.06-.94L8.5 2.5l-.94 2.06-2.06.94zm10 10l.94 2.06.94-2.06 2.06-.94-2.06-.94-.94-2.06-.94 2.06-2.06.94z\"/><path d=\"M17.41 7.96l-1.37-1.37c-.4-.4-.92-.59-1.43-.59-.52 0-1.04.2-1.43.59L10.3 9.45l-7.72 7.72c-.78.78-.78 2.05 0 2.83L4 21.41c.39.39.9.59 1.41.59.51 0 1.02-.2 1.41-.59l7.78-7.78 2.81-2.81c.8-.78.8-2.07 0-2.86zM5.41 20L4 18.59l7.72-7.72 1.47 1.35L5.41 20z\"/>\n",
              "  </svg>\n",
              "      </button>\n",
              "      \n",
              "  <style>\n",
              "    .colab-df-container {\n",
              "      display:flex;\n",
              "      flex-wrap:wrap;\n",
              "      gap: 12px;\n",
              "    }\n",
              "\n",
              "    .colab-df-convert {\n",
              "      background-color: #E8F0FE;\n",
              "      border: none;\n",
              "      border-radius: 50%;\n",
              "      cursor: pointer;\n",
              "      display: none;\n",
              "      fill: #1967D2;\n",
              "      height: 32px;\n",
              "      padding: 0 0 0 0;\n",
              "      width: 32px;\n",
              "    }\n",
              "\n",
              "    .colab-df-convert:hover {\n",
              "      background-color: #E2EBFA;\n",
              "      box-shadow: 0px 1px 2px rgba(60, 64, 67, 0.3), 0px 1px 3px 1px rgba(60, 64, 67, 0.15);\n",
              "      fill: #174EA6;\n",
              "    }\n",
              "\n",
              "    [theme=dark] .colab-df-convert {\n",
              "      background-color: #3B4455;\n",
              "      fill: #D2E3FC;\n",
              "    }\n",
              "\n",
              "    [theme=dark] .colab-df-convert:hover {\n",
              "      background-color: #434B5C;\n",
              "      box-shadow: 0px 1px 3px 1px rgba(0, 0, 0, 0.15);\n",
              "      filter: drop-shadow(0px 1px 2px rgba(0, 0, 0, 0.3));\n",
              "      fill: #FFFFFF;\n",
              "    }\n",
              "  </style>\n",
              "\n",
              "      <script>\n",
              "        const buttonEl =\n",
              "          document.querySelector('#df-ee3e4488-b5ab-4c76-a970-e0676bed2fda button.colab-df-convert');\n",
              "        buttonEl.style.display =\n",
              "          google.colab.kernel.accessAllowed ? 'block' : 'none';\n",
              "\n",
              "        async function convertToInteractive(key) {\n",
              "          const element = document.querySelector('#df-ee3e4488-b5ab-4c76-a970-e0676bed2fda');\n",
              "          const dataTable =\n",
              "            await google.colab.kernel.invokeFunction('convertToInteractive',\n",
              "                                                     [key], {});\n",
              "          if (!dataTable) return;\n",
              "\n",
              "          const docLinkHtml = 'Like what you see? Visit the ' +\n",
              "            '<a target=\"_blank\" href=https://colab.research.google.com/notebooks/data_table.ipynb>data table notebook</a>'\n",
              "            + ' to learn more about interactive tables.';\n",
              "          element.innerHTML = '';\n",
              "          dataTable['output_type'] = 'display_data';\n",
              "          await google.colab.output.renderOutput(dataTable, element);\n",
              "          const docLink = document.createElement('div');\n",
              "          docLink.innerHTML = docLinkHtml;\n",
              "          element.appendChild(docLink);\n",
              "        }\n",
              "      </script>\n",
              "    </div>\n",
              "  </div>\n",
              "  "
            ]
          },
          "metadata": {},
          "execution_count": 16
        }
      ]
    },
    {
      "cell_type": "code",
      "source": [
        "# As the same day visit is considered invalid\n",
        "# I will first drop the time_stamp column and\n",
        "# then will drop all duplicates\n",
        "# this will remove all entries coming from the same day.\n",
        "user_eng = user_eng.drop(\"time_stamp\", axis=1)\n",
        "user_eng = user_eng.drop_duplicates()"
      ],
      "metadata": {
        "id": "LbLvbmUQqd-D"
      },
      "execution_count": 17,
      "outputs": []
    },
    {
      "cell_type": "code",
      "source": [
        "user_eng.head()"
      ],
      "metadata": {
        "colab": {
          "base_uri": "https://localhost:8080/",
          "height": 206
        },
        "id": "YIoys2iVtb1g",
        "outputId": "2c5126d1-f9cb-4223-d37b-77f9da8d6d6c"
      },
      "execution_count": 18,
      "outputs": [
        {
          "output_type": "execute_result",
          "data": {
            "text/plain": [
              "   user_id  visited       Date\n",
              "0        1        1 2014-04-22\n",
              "1        2        1 2013-11-15\n",
              "2        2        1 2013-11-29\n",
              "3        2        1 2013-12-09\n",
              "4        2        1 2013-12-25"
            ],
            "text/html": [
              "\n",
              "  <div id=\"df-154e88ad-b7ae-4715-90f8-dc1955577d59\">\n",
              "    <div class=\"colab-df-container\">\n",
              "      <div>\n",
              "<style scoped>\n",
              "    .dataframe tbody tr th:only-of-type {\n",
              "        vertical-align: middle;\n",
              "    }\n",
              "\n",
              "    .dataframe tbody tr th {\n",
              "        vertical-align: top;\n",
              "    }\n",
              "\n",
              "    .dataframe thead th {\n",
              "        text-align: right;\n",
              "    }\n",
              "</style>\n",
              "<table border=\"1\" class=\"dataframe\">\n",
              "  <thead>\n",
              "    <tr style=\"text-align: right;\">\n",
              "      <th></th>\n",
              "      <th>user_id</th>\n",
              "      <th>visited</th>\n",
              "      <th>Date</th>\n",
              "    </tr>\n",
              "  </thead>\n",
              "  <tbody>\n",
              "    <tr>\n",
              "      <th>0</th>\n",
              "      <td>1</td>\n",
              "      <td>1</td>\n",
              "      <td>2014-04-22</td>\n",
              "    </tr>\n",
              "    <tr>\n",
              "      <th>1</th>\n",
              "      <td>2</td>\n",
              "      <td>1</td>\n",
              "      <td>2013-11-15</td>\n",
              "    </tr>\n",
              "    <tr>\n",
              "      <th>2</th>\n",
              "      <td>2</td>\n",
              "      <td>1</td>\n",
              "      <td>2013-11-29</td>\n",
              "    </tr>\n",
              "    <tr>\n",
              "      <th>3</th>\n",
              "      <td>2</td>\n",
              "      <td>1</td>\n",
              "      <td>2013-12-09</td>\n",
              "    </tr>\n",
              "    <tr>\n",
              "      <th>4</th>\n",
              "      <td>2</td>\n",
              "      <td>1</td>\n",
              "      <td>2013-12-25</td>\n",
              "    </tr>\n",
              "  </tbody>\n",
              "</table>\n",
              "</div>\n",
              "      <button class=\"colab-df-convert\" onclick=\"convertToInteractive('df-154e88ad-b7ae-4715-90f8-dc1955577d59')\"\n",
              "              title=\"Convert this dataframe to an interactive table.\"\n",
              "              style=\"display:none;\">\n",
              "        \n",
              "  <svg xmlns=\"http://www.w3.org/2000/svg\" height=\"24px\"viewBox=\"0 0 24 24\"\n",
              "       width=\"24px\">\n",
              "    <path d=\"M0 0h24v24H0V0z\" fill=\"none\"/>\n",
              "    <path d=\"M18.56 5.44l.94 2.06.94-2.06 2.06-.94-2.06-.94-.94-2.06-.94 2.06-2.06.94zm-11 1L8.5 8.5l.94-2.06 2.06-.94-2.06-.94L8.5 2.5l-.94 2.06-2.06.94zm10 10l.94 2.06.94-2.06 2.06-.94-2.06-.94-.94-2.06-.94 2.06-2.06.94z\"/><path d=\"M17.41 7.96l-1.37-1.37c-.4-.4-.92-.59-1.43-.59-.52 0-1.04.2-1.43.59L10.3 9.45l-7.72 7.72c-.78.78-.78 2.05 0 2.83L4 21.41c.39.39.9.59 1.41.59.51 0 1.02-.2 1.41-.59l7.78-7.78 2.81-2.81c.8-.78.8-2.07 0-2.86zM5.41 20L4 18.59l7.72-7.72 1.47 1.35L5.41 20z\"/>\n",
              "  </svg>\n",
              "      </button>\n",
              "      \n",
              "  <style>\n",
              "    .colab-df-container {\n",
              "      display:flex;\n",
              "      flex-wrap:wrap;\n",
              "      gap: 12px;\n",
              "    }\n",
              "\n",
              "    .colab-df-convert {\n",
              "      background-color: #E8F0FE;\n",
              "      border: none;\n",
              "      border-radius: 50%;\n",
              "      cursor: pointer;\n",
              "      display: none;\n",
              "      fill: #1967D2;\n",
              "      height: 32px;\n",
              "      padding: 0 0 0 0;\n",
              "      width: 32px;\n",
              "    }\n",
              "\n",
              "    .colab-df-convert:hover {\n",
              "      background-color: #E2EBFA;\n",
              "      box-shadow: 0px 1px 2px rgba(60, 64, 67, 0.3), 0px 1px 3px 1px rgba(60, 64, 67, 0.15);\n",
              "      fill: #174EA6;\n",
              "    }\n",
              "\n",
              "    [theme=dark] .colab-df-convert {\n",
              "      background-color: #3B4455;\n",
              "      fill: #D2E3FC;\n",
              "    }\n",
              "\n",
              "    [theme=dark] .colab-df-convert:hover {\n",
              "      background-color: #434B5C;\n",
              "      box-shadow: 0px 1px 3px 1px rgba(0, 0, 0, 0.15);\n",
              "      filter: drop-shadow(0px 1px 2px rgba(0, 0, 0, 0.3));\n",
              "      fill: #FFFFFF;\n",
              "    }\n",
              "  </style>\n",
              "\n",
              "      <script>\n",
              "        const buttonEl =\n",
              "          document.querySelector('#df-154e88ad-b7ae-4715-90f8-dc1955577d59 button.colab-df-convert');\n",
              "        buttonEl.style.display =\n",
              "          google.colab.kernel.accessAllowed ? 'block' : 'none';\n",
              "\n",
              "        async function convertToInteractive(key) {\n",
              "          const element = document.querySelector('#df-154e88ad-b7ae-4715-90f8-dc1955577d59');\n",
              "          const dataTable =\n",
              "            await google.colab.kernel.invokeFunction('convertToInteractive',\n",
              "                                                     [key], {});\n",
              "          if (!dataTable) return;\n",
              "\n",
              "          const docLinkHtml = 'Like what you see? Visit the ' +\n",
              "            '<a target=\"_blank\" href=https://colab.research.google.com/notebooks/data_table.ipynb>data table notebook</a>'\n",
              "            + ' to learn more about interactive tables.';\n",
              "          element.innerHTML = '';\n",
              "          dataTable['output_type'] = 'display_data';\n",
              "          await google.colab.output.renderOutput(dataTable, element);\n",
              "          const docLink = document.createElement('div');\n",
              "          docLink.innerHTML = docLinkHtml;\n",
              "          element.appendChild(docLink);\n",
              "        }\n",
              "      </script>\n",
              "    </div>\n",
              "  </div>\n",
              "  "
            ]
          },
          "metadata": {},
          "execution_count": 18
        }
      ]
    },
    {
      "cell_type": "code",
      "source": [
        "# Now I'm creating visits_7_days column\n",
        "# with number of visits within a week\n",
        "# This part of the code is obtained from the net\n",
        "def rolling_count(df_group, frequency):\n",
        "    return df_group.rolling(frequency, on='Date')['user_id'].count()\n",
        "\n",
        "user_eng['visits_7_days'] = user_eng.groupby('user_id', \n",
        "                                             as_index=False, \n",
        "                                             group_keys=False).apply(rolling_count, '7D')"
      ],
      "metadata": {
        "id": "QrK5QwIPt3FE"
      },
      "execution_count": 19,
      "outputs": []
    },
    {
      "cell_type": "code",
      "source": [
        "user_eng.head(20)"
      ],
      "metadata": {
        "id": "GyaSaAttfX2P",
        "colab": {
          "base_uri": "https://localhost:8080/",
          "height": 676
        },
        "outputId": "5f342ace-c38d-43b4-e194-931444b82bb7"
      },
      "execution_count": 20,
      "outputs": [
        {
          "output_type": "execute_result",
          "data": {
            "text/plain": [
              "    user_id  visited       Date  visits_7_days\n",
              "0         1        1 2014-04-22            1.0\n",
              "1         2        1 2013-11-15            1.0\n",
              "2         2        1 2013-11-29            1.0\n",
              "3         2        1 2013-12-09            1.0\n",
              "4         2        1 2013-12-25            1.0\n",
              "5         2        1 2013-12-31            2.0\n",
              "6         2        1 2014-01-08            1.0\n",
              "7         2        1 2014-02-03            1.0\n",
              "8         2        1 2014-02-08            2.0\n",
              "9         2        1 2014-02-09            3.0\n",
              "10        2        1 2014-02-13            3.0\n",
              "11        2        1 2014-02-16            2.0\n",
              "12        2        1 2014-03-09            1.0\n",
              "13        2        1 2014-03-13            2.0\n",
              "14        2        1 2014-03-31            1.0\n",
              "15        3        1 2013-03-19            1.0\n",
              "16        4        1 2013-05-22            1.0\n",
              "17        5        1 2013-01-22            1.0\n",
              "18        6        1 2013-12-19            1.0\n",
              "19        7        1 2012-12-20            1.0"
            ],
            "text/html": [
              "\n",
              "  <div id=\"df-bc9acfef-55eb-4552-a508-d0320bc49aec\">\n",
              "    <div class=\"colab-df-container\">\n",
              "      <div>\n",
              "<style scoped>\n",
              "    .dataframe tbody tr th:only-of-type {\n",
              "        vertical-align: middle;\n",
              "    }\n",
              "\n",
              "    .dataframe tbody tr th {\n",
              "        vertical-align: top;\n",
              "    }\n",
              "\n",
              "    .dataframe thead th {\n",
              "        text-align: right;\n",
              "    }\n",
              "</style>\n",
              "<table border=\"1\" class=\"dataframe\">\n",
              "  <thead>\n",
              "    <tr style=\"text-align: right;\">\n",
              "      <th></th>\n",
              "      <th>user_id</th>\n",
              "      <th>visited</th>\n",
              "      <th>Date</th>\n",
              "      <th>visits_7_days</th>\n",
              "    </tr>\n",
              "  </thead>\n",
              "  <tbody>\n",
              "    <tr>\n",
              "      <th>0</th>\n",
              "      <td>1</td>\n",
              "      <td>1</td>\n",
              "      <td>2014-04-22</td>\n",
              "      <td>1.0</td>\n",
              "    </tr>\n",
              "    <tr>\n",
              "      <th>1</th>\n",
              "      <td>2</td>\n",
              "      <td>1</td>\n",
              "      <td>2013-11-15</td>\n",
              "      <td>1.0</td>\n",
              "    </tr>\n",
              "    <tr>\n",
              "      <th>2</th>\n",
              "      <td>2</td>\n",
              "      <td>1</td>\n",
              "      <td>2013-11-29</td>\n",
              "      <td>1.0</td>\n",
              "    </tr>\n",
              "    <tr>\n",
              "      <th>3</th>\n",
              "      <td>2</td>\n",
              "      <td>1</td>\n",
              "      <td>2013-12-09</td>\n",
              "      <td>1.0</td>\n",
              "    </tr>\n",
              "    <tr>\n",
              "      <th>4</th>\n",
              "      <td>2</td>\n",
              "      <td>1</td>\n",
              "      <td>2013-12-25</td>\n",
              "      <td>1.0</td>\n",
              "    </tr>\n",
              "    <tr>\n",
              "      <th>5</th>\n",
              "      <td>2</td>\n",
              "      <td>1</td>\n",
              "      <td>2013-12-31</td>\n",
              "      <td>2.0</td>\n",
              "    </tr>\n",
              "    <tr>\n",
              "      <th>6</th>\n",
              "      <td>2</td>\n",
              "      <td>1</td>\n",
              "      <td>2014-01-08</td>\n",
              "      <td>1.0</td>\n",
              "    </tr>\n",
              "    <tr>\n",
              "      <th>7</th>\n",
              "      <td>2</td>\n",
              "      <td>1</td>\n",
              "      <td>2014-02-03</td>\n",
              "      <td>1.0</td>\n",
              "    </tr>\n",
              "    <tr>\n",
              "      <th>8</th>\n",
              "      <td>2</td>\n",
              "      <td>1</td>\n",
              "      <td>2014-02-08</td>\n",
              "      <td>2.0</td>\n",
              "    </tr>\n",
              "    <tr>\n",
              "      <th>9</th>\n",
              "      <td>2</td>\n",
              "      <td>1</td>\n",
              "      <td>2014-02-09</td>\n",
              "      <td>3.0</td>\n",
              "    </tr>\n",
              "    <tr>\n",
              "      <th>10</th>\n",
              "      <td>2</td>\n",
              "      <td>1</td>\n",
              "      <td>2014-02-13</td>\n",
              "      <td>3.0</td>\n",
              "    </tr>\n",
              "    <tr>\n",
              "      <th>11</th>\n",
              "      <td>2</td>\n",
              "      <td>1</td>\n",
              "      <td>2014-02-16</td>\n",
              "      <td>2.0</td>\n",
              "    </tr>\n",
              "    <tr>\n",
              "      <th>12</th>\n",
              "      <td>2</td>\n",
              "      <td>1</td>\n",
              "      <td>2014-03-09</td>\n",
              "      <td>1.0</td>\n",
              "    </tr>\n",
              "    <tr>\n",
              "      <th>13</th>\n",
              "      <td>2</td>\n",
              "      <td>1</td>\n",
              "      <td>2014-03-13</td>\n",
              "      <td>2.0</td>\n",
              "    </tr>\n",
              "    <tr>\n",
              "      <th>14</th>\n",
              "      <td>2</td>\n",
              "      <td>1</td>\n",
              "      <td>2014-03-31</td>\n",
              "      <td>1.0</td>\n",
              "    </tr>\n",
              "    <tr>\n",
              "      <th>15</th>\n",
              "      <td>3</td>\n",
              "      <td>1</td>\n",
              "      <td>2013-03-19</td>\n",
              "      <td>1.0</td>\n",
              "    </tr>\n",
              "    <tr>\n",
              "      <th>16</th>\n",
              "      <td>4</td>\n",
              "      <td>1</td>\n",
              "      <td>2013-05-22</td>\n",
              "      <td>1.0</td>\n",
              "    </tr>\n",
              "    <tr>\n",
              "      <th>17</th>\n",
              "      <td>5</td>\n",
              "      <td>1</td>\n",
              "      <td>2013-01-22</td>\n",
              "      <td>1.0</td>\n",
              "    </tr>\n",
              "    <tr>\n",
              "      <th>18</th>\n",
              "      <td>6</td>\n",
              "      <td>1</td>\n",
              "      <td>2013-12-19</td>\n",
              "      <td>1.0</td>\n",
              "    </tr>\n",
              "    <tr>\n",
              "      <th>19</th>\n",
              "      <td>7</td>\n",
              "      <td>1</td>\n",
              "      <td>2012-12-20</td>\n",
              "      <td>1.0</td>\n",
              "    </tr>\n",
              "  </tbody>\n",
              "</table>\n",
              "</div>\n",
              "      <button class=\"colab-df-convert\" onclick=\"convertToInteractive('df-bc9acfef-55eb-4552-a508-d0320bc49aec')\"\n",
              "              title=\"Convert this dataframe to an interactive table.\"\n",
              "              style=\"display:none;\">\n",
              "        \n",
              "  <svg xmlns=\"http://www.w3.org/2000/svg\" height=\"24px\"viewBox=\"0 0 24 24\"\n",
              "       width=\"24px\">\n",
              "    <path d=\"M0 0h24v24H0V0z\" fill=\"none\"/>\n",
              "    <path d=\"M18.56 5.44l.94 2.06.94-2.06 2.06-.94-2.06-.94-.94-2.06-.94 2.06-2.06.94zm-11 1L8.5 8.5l.94-2.06 2.06-.94-2.06-.94L8.5 2.5l-.94 2.06-2.06.94zm10 10l.94 2.06.94-2.06 2.06-.94-2.06-.94-.94-2.06-.94 2.06-2.06.94z\"/><path d=\"M17.41 7.96l-1.37-1.37c-.4-.4-.92-.59-1.43-.59-.52 0-1.04.2-1.43.59L10.3 9.45l-7.72 7.72c-.78.78-.78 2.05 0 2.83L4 21.41c.39.39.9.59 1.41.59.51 0 1.02-.2 1.41-.59l7.78-7.78 2.81-2.81c.8-.78.8-2.07 0-2.86zM5.41 20L4 18.59l7.72-7.72 1.47 1.35L5.41 20z\"/>\n",
              "  </svg>\n",
              "      </button>\n",
              "      \n",
              "  <style>\n",
              "    .colab-df-container {\n",
              "      display:flex;\n",
              "      flex-wrap:wrap;\n",
              "      gap: 12px;\n",
              "    }\n",
              "\n",
              "    .colab-df-convert {\n",
              "      background-color: #E8F0FE;\n",
              "      border: none;\n",
              "      border-radius: 50%;\n",
              "      cursor: pointer;\n",
              "      display: none;\n",
              "      fill: #1967D2;\n",
              "      height: 32px;\n",
              "      padding: 0 0 0 0;\n",
              "      width: 32px;\n",
              "    }\n",
              "\n",
              "    .colab-df-convert:hover {\n",
              "      background-color: #E2EBFA;\n",
              "      box-shadow: 0px 1px 2px rgba(60, 64, 67, 0.3), 0px 1px 3px 1px rgba(60, 64, 67, 0.15);\n",
              "      fill: #174EA6;\n",
              "    }\n",
              "\n",
              "    [theme=dark] .colab-df-convert {\n",
              "      background-color: #3B4455;\n",
              "      fill: #D2E3FC;\n",
              "    }\n",
              "\n",
              "    [theme=dark] .colab-df-convert:hover {\n",
              "      background-color: #434B5C;\n",
              "      box-shadow: 0px 1px 3px 1px rgba(0, 0, 0, 0.15);\n",
              "      filter: drop-shadow(0px 1px 2px rgba(0, 0, 0, 0.3));\n",
              "      fill: #FFFFFF;\n",
              "    }\n",
              "  </style>\n",
              "\n",
              "      <script>\n",
              "        const buttonEl =\n",
              "          document.querySelector('#df-bc9acfef-55eb-4552-a508-d0320bc49aec button.colab-df-convert');\n",
              "        buttonEl.style.display =\n",
              "          google.colab.kernel.accessAllowed ? 'block' : 'none';\n",
              "\n",
              "        async function convertToInteractive(key) {\n",
              "          const element = document.querySelector('#df-bc9acfef-55eb-4552-a508-d0320bc49aec');\n",
              "          const dataTable =\n",
              "            await google.colab.kernel.invokeFunction('convertToInteractive',\n",
              "                                                     [key], {});\n",
              "          if (!dataTable) return;\n",
              "\n",
              "          const docLinkHtml = 'Like what you see? Visit the ' +\n",
              "            '<a target=\"_blank\" href=https://colab.research.google.com/notebooks/data_table.ipynb>data table notebook</a>'\n",
              "            + ' to learn more about interactive tables.';\n",
              "          element.innerHTML = '';\n",
              "          dataTable['output_type'] = 'display_data';\n",
              "          await google.colab.output.renderOutput(dataTable, element);\n",
              "          const docLink = document.createElement('div');\n",
              "          docLink.innerHTML = docLinkHtml;\n",
              "          element.appendChild(docLink);\n",
              "        }\n",
              "      </script>\n",
              "    </div>\n",
              "  </div>\n",
              "  "
            ]
          },
          "metadata": {},
          "execution_count": 20
        }
      ]
    },
    {
      "cell_type": "code",
      "source": [
        "# Now grouping by user_id and finding the max value\n",
        "user_adopted = user_eng.groupby('user_id')['visits_7_days'].max().reset_index()\n",
        "user_adopted.head()"
      ],
      "metadata": {
        "id": "58Y2SPXPgi0-",
        "colab": {
          "base_uri": "https://localhost:8080/",
          "height": 206
        },
        "outputId": "7910cd2b-13ba-489e-bf14-8924ff720a8d"
      },
      "execution_count": 21,
      "outputs": [
        {
          "output_type": "execute_result",
          "data": {
            "text/plain": [
              "   user_id  visits_7_days\n",
              "0        1            1.0\n",
              "1        2            3.0\n",
              "2        3            1.0\n",
              "3        4            1.0\n",
              "4        5            1.0"
            ],
            "text/html": [
              "\n",
              "  <div id=\"df-0fc4ce86-62f7-4a79-803a-e3e5f66653a0\">\n",
              "    <div class=\"colab-df-container\">\n",
              "      <div>\n",
              "<style scoped>\n",
              "    .dataframe tbody tr th:only-of-type {\n",
              "        vertical-align: middle;\n",
              "    }\n",
              "\n",
              "    .dataframe tbody tr th {\n",
              "        vertical-align: top;\n",
              "    }\n",
              "\n",
              "    .dataframe thead th {\n",
              "        text-align: right;\n",
              "    }\n",
              "</style>\n",
              "<table border=\"1\" class=\"dataframe\">\n",
              "  <thead>\n",
              "    <tr style=\"text-align: right;\">\n",
              "      <th></th>\n",
              "      <th>user_id</th>\n",
              "      <th>visits_7_days</th>\n",
              "    </tr>\n",
              "  </thead>\n",
              "  <tbody>\n",
              "    <tr>\n",
              "      <th>0</th>\n",
              "      <td>1</td>\n",
              "      <td>1.0</td>\n",
              "    </tr>\n",
              "    <tr>\n",
              "      <th>1</th>\n",
              "      <td>2</td>\n",
              "      <td>3.0</td>\n",
              "    </tr>\n",
              "    <tr>\n",
              "      <th>2</th>\n",
              "      <td>3</td>\n",
              "      <td>1.0</td>\n",
              "    </tr>\n",
              "    <tr>\n",
              "      <th>3</th>\n",
              "      <td>4</td>\n",
              "      <td>1.0</td>\n",
              "    </tr>\n",
              "    <tr>\n",
              "      <th>4</th>\n",
              "      <td>5</td>\n",
              "      <td>1.0</td>\n",
              "    </tr>\n",
              "  </tbody>\n",
              "</table>\n",
              "</div>\n",
              "      <button class=\"colab-df-convert\" onclick=\"convertToInteractive('df-0fc4ce86-62f7-4a79-803a-e3e5f66653a0')\"\n",
              "              title=\"Convert this dataframe to an interactive table.\"\n",
              "              style=\"display:none;\">\n",
              "        \n",
              "  <svg xmlns=\"http://www.w3.org/2000/svg\" height=\"24px\"viewBox=\"0 0 24 24\"\n",
              "       width=\"24px\">\n",
              "    <path d=\"M0 0h24v24H0V0z\" fill=\"none\"/>\n",
              "    <path d=\"M18.56 5.44l.94 2.06.94-2.06 2.06-.94-2.06-.94-.94-2.06-.94 2.06-2.06.94zm-11 1L8.5 8.5l.94-2.06 2.06-.94-2.06-.94L8.5 2.5l-.94 2.06-2.06.94zm10 10l.94 2.06.94-2.06 2.06-.94-2.06-.94-.94-2.06-.94 2.06-2.06.94z\"/><path d=\"M17.41 7.96l-1.37-1.37c-.4-.4-.92-.59-1.43-.59-.52 0-1.04.2-1.43.59L10.3 9.45l-7.72 7.72c-.78.78-.78 2.05 0 2.83L4 21.41c.39.39.9.59 1.41.59.51 0 1.02-.2 1.41-.59l7.78-7.78 2.81-2.81c.8-.78.8-2.07 0-2.86zM5.41 20L4 18.59l7.72-7.72 1.47 1.35L5.41 20z\"/>\n",
              "  </svg>\n",
              "      </button>\n",
              "      \n",
              "  <style>\n",
              "    .colab-df-container {\n",
              "      display:flex;\n",
              "      flex-wrap:wrap;\n",
              "      gap: 12px;\n",
              "    }\n",
              "\n",
              "    .colab-df-convert {\n",
              "      background-color: #E8F0FE;\n",
              "      border: none;\n",
              "      border-radius: 50%;\n",
              "      cursor: pointer;\n",
              "      display: none;\n",
              "      fill: #1967D2;\n",
              "      height: 32px;\n",
              "      padding: 0 0 0 0;\n",
              "      width: 32px;\n",
              "    }\n",
              "\n",
              "    .colab-df-convert:hover {\n",
              "      background-color: #E2EBFA;\n",
              "      box-shadow: 0px 1px 2px rgba(60, 64, 67, 0.3), 0px 1px 3px 1px rgba(60, 64, 67, 0.15);\n",
              "      fill: #174EA6;\n",
              "    }\n",
              "\n",
              "    [theme=dark] .colab-df-convert {\n",
              "      background-color: #3B4455;\n",
              "      fill: #D2E3FC;\n",
              "    }\n",
              "\n",
              "    [theme=dark] .colab-df-convert:hover {\n",
              "      background-color: #434B5C;\n",
              "      box-shadow: 0px 1px 3px 1px rgba(0, 0, 0, 0.15);\n",
              "      filter: drop-shadow(0px 1px 2px rgba(0, 0, 0, 0.3));\n",
              "      fill: #FFFFFF;\n",
              "    }\n",
              "  </style>\n",
              "\n",
              "      <script>\n",
              "        const buttonEl =\n",
              "          document.querySelector('#df-0fc4ce86-62f7-4a79-803a-e3e5f66653a0 button.colab-df-convert');\n",
              "        buttonEl.style.display =\n",
              "          google.colab.kernel.accessAllowed ? 'block' : 'none';\n",
              "\n",
              "        async function convertToInteractive(key) {\n",
              "          const element = document.querySelector('#df-0fc4ce86-62f7-4a79-803a-e3e5f66653a0');\n",
              "          const dataTable =\n",
              "            await google.colab.kernel.invokeFunction('convertToInteractive',\n",
              "                                                     [key], {});\n",
              "          if (!dataTable) return;\n",
              "\n",
              "          const docLinkHtml = 'Like what you see? Visit the ' +\n",
              "            '<a target=\"_blank\" href=https://colab.research.google.com/notebooks/data_table.ipynb>data table notebook</a>'\n",
              "            + ' to learn more about interactive tables.';\n",
              "          element.innerHTML = '';\n",
              "          dataTable['output_type'] = 'display_data';\n",
              "          await google.colab.output.renderOutput(dataTable, element);\n",
              "          const docLink = document.createElement('div');\n",
              "          docLink.innerHTML = docLinkHtml;\n",
              "          element.appendChild(docLink);\n",
              "        }\n",
              "      </script>\n",
              "    </div>\n",
              "  </div>\n",
              "  "
            ]
          },
          "metadata": {},
          "execution_count": 21
        }
      ]
    },
    {
      "cell_type": "code",
      "source": [
        "# Now create a new column as \"is_adopted\"\n",
        "user_adopted[\"is_adopted\"] = (user_adopted[\"visits_7_days\"]>2).astype(int)\n",
        "user_adopted.head(10)"
      ],
      "metadata": {
        "colab": {
          "base_uri": "https://localhost:8080/",
          "height": 363
        },
        "id": "0vwxpBvfg8mL",
        "outputId": "ced519cc-473d-4843-c403-d23a4939820e"
      },
      "execution_count": 22,
      "outputs": [
        {
          "output_type": "execute_result",
          "data": {
            "text/plain": [
              "   user_id  visits_7_days  is_adopted\n",
              "0        1            1.0           0\n",
              "1        2            3.0           1\n",
              "2        3            1.0           0\n",
              "3        4            1.0           0\n",
              "4        5            1.0           0\n",
              "5        6            1.0           0\n",
              "6        7            1.0           0\n",
              "7       10            7.0           1\n",
              "8       11            1.0           0\n",
              "9       13            1.0           0"
            ],
            "text/html": [
              "\n",
              "  <div id=\"df-11e78dfc-7991-4cbd-ac16-f384dd0d8963\">\n",
              "    <div class=\"colab-df-container\">\n",
              "      <div>\n",
              "<style scoped>\n",
              "    .dataframe tbody tr th:only-of-type {\n",
              "        vertical-align: middle;\n",
              "    }\n",
              "\n",
              "    .dataframe tbody tr th {\n",
              "        vertical-align: top;\n",
              "    }\n",
              "\n",
              "    .dataframe thead th {\n",
              "        text-align: right;\n",
              "    }\n",
              "</style>\n",
              "<table border=\"1\" class=\"dataframe\">\n",
              "  <thead>\n",
              "    <tr style=\"text-align: right;\">\n",
              "      <th></th>\n",
              "      <th>user_id</th>\n",
              "      <th>visits_7_days</th>\n",
              "      <th>is_adopted</th>\n",
              "    </tr>\n",
              "  </thead>\n",
              "  <tbody>\n",
              "    <tr>\n",
              "      <th>0</th>\n",
              "      <td>1</td>\n",
              "      <td>1.0</td>\n",
              "      <td>0</td>\n",
              "    </tr>\n",
              "    <tr>\n",
              "      <th>1</th>\n",
              "      <td>2</td>\n",
              "      <td>3.0</td>\n",
              "      <td>1</td>\n",
              "    </tr>\n",
              "    <tr>\n",
              "      <th>2</th>\n",
              "      <td>3</td>\n",
              "      <td>1.0</td>\n",
              "      <td>0</td>\n",
              "    </tr>\n",
              "    <tr>\n",
              "      <th>3</th>\n",
              "      <td>4</td>\n",
              "      <td>1.0</td>\n",
              "      <td>0</td>\n",
              "    </tr>\n",
              "    <tr>\n",
              "      <th>4</th>\n",
              "      <td>5</td>\n",
              "      <td>1.0</td>\n",
              "      <td>0</td>\n",
              "    </tr>\n",
              "    <tr>\n",
              "      <th>5</th>\n",
              "      <td>6</td>\n",
              "      <td>1.0</td>\n",
              "      <td>0</td>\n",
              "    </tr>\n",
              "    <tr>\n",
              "      <th>6</th>\n",
              "      <td>7</td>\n",
              "      <td>1.0</td>\n",
              "      <td>0</td>\n",
              "    </tr>\n",
              "    <tr>\n",
              "      <th>7</th>\n",
              "      <td>10</td>\n",
              "      <td>7.0</td>\n",
              "      <td>1</td>\n",
              "    </tr>\n",
              "    <tr>\n",
              "      <th>8</th>\n",
              "      <td>11</td>\n",
              "      <td>1.0</td>\n",
              "      <td>0</td>\n",
              "    </tr>\n",
              "    <tr>\n",
              "      <th>9</th>\n",
              "      <td>13</td>\n",
              "      <td>1.0</td>\n",
              "      <td>0</td>\n",
              "    </tr>\n",
              "  </tbody>\n",
              "</table>\n",
              "</div>\n",
              "      <button class=\"colab-df-convert\" onclick=\"convertToInteractive('df-11e78dfc-7991-4cbd-ac16-f384dd0d8963')\"\n",
              "              title=\"Convert this dataframe to an interactive table.\"\n",
              "              style=\"display:none;\">\n",
              "        \n",
              "  <svg xmlns=\"http://www.w3.org/2000/svg\" height=\"24px\"viewBox=\"0 0 24 24\"\n",
              "       width=\"24px\">\n",
              "    <path d=\"M0 0h24v24H0V0z\" fill=\"none\"/>\n",
              "    <path d=\"M18.56 5.44l.94 2.06.94-2.06 2.06-.94-2.06-.94-.94-2.06-.94 2.06-2.06.94zm-11 1L8.5 8.5l.94-2.06 2.06-.94-2.06-.94L8.5 2.5l-.94 2.06-2.06.94zm10 10l.94 2.06.94-2.06 2.06-.94-2.06-.94-.94-2.06-.94 2.06-2.06.94z\"/><path d=\"M17.41 7.96l-1.37-1.37c-.4-.4-.92-.59-1.43-.59-.52 0-1.04.2-1.43.59L10.3 9.45l-7.72 7.72c-.78.78-.78 2.05 0 2.83L4 21.41c.39.39.9.59 1.41.59.51 0 1.02-.2 1.41-.59l7.78-7.78 2.81-2.81c.8-.78.8-2.07 0-2.86zM5.41 20L4 18.59l7.72-7.72 1.47 1.35L5.41 20z\"/>\n",
              "  </svg>\n",
              "      </button>\n",
              "      \n",
              "  <style>\n",
              "    .colab-df-container {\n",
              "      display:flex;\n",
              "      flex-wrap:wrap;\n",
              "      gap: 12px;\n",
              "    }\n",
              "\n",
              "    .colab-df-convert {\n",
              "      background-color: #E8F0FE;\n",
              "      border: none;\n",
              "      border-radius: 50%;\n",
              "      cursor: pointer;\n",
              "      display: none;\n",
              "      fill: #1967D2;\n",
              "      height: 32px;\n",
              "      padding: 0 0 0 0;\n",
              "      width: 32px;\n",
              "    }\n",
              "\n",
              "    .colab-df-convert:hover {\n",
              "      background-color: #E2EBFA;\n",
              "      box-shadow: 0px 1px 2px rgba(60, 64, 67, 0.3), 0px 1px 3px 1px rgba(60, 64, 67, 0.15);\n",
              "      fill: #174EA6;\n",
              "    }\n",
              "\n",
              "    [theme=dark] .colab-df-convert {\n",
              "      background-color: #3B4455;\n",
              "      fill: #D2E3FC;\n",
              "    }\n",
              "\n",
              "    [theme=dark] .colab-df-convert:hover {\n",
              "      background-color: #434B5C;\n",
              "      box-shadow: 0px 1px 3px 1px rgba(0, 0, 0, 0.15);\n",
              "      filter: drop-shadow(0px 1px 2px rgba(0, 0, 0, 0.3));\n",
              "      fill: #FFFFFF;\n",
              "    }\n",
              "  </style>\n",
              "\n",
              "      <script>\n",
              "        const buttonEl =\n",
              "          document.querySelector('#df-11e78dfc-7991-4cbd-ac16-f384dd0d8963 button.colab-df-convert');\n",
              "        buttonEl.style.display =\n",
              "          google.colab.kernel.accessAllowed ? 'block' : 'none';\n",
              "\n",
              "        async function convertToInteractive(key) {\n",
              "          const element = document.querySelector('#df-11e78dfc-7991-4cbd-ac16-f384dd0d8963');\n",
              "          const dataTable =\n",
              "            await google.colab.kernel.invokeFunction('convertToInteractive',\n",
              "                                                     [key], {});\n",
              "          if (!dataTable) return;\n",
              "\n",
              "          const docLinkHtml = 'Like what you see? Visit the ' +\n",
              "            '<a target=\"_blank\" href=https://colab.research.google.com/notebooks/data_table.ipynb>data table notebook</a>'\n",
              "            + ' to learn more about interactive tables.';\n",
              "          element.innerHTML = '';\n",
              "          dataTable['output_type'] = 'display_data';\n",
              "          await google.colab.output.renderOutput(dataTable, element);\n",
              "          const docLink = document.createElement('div');\n",
              "          docLink.innerHTML = docLinkHtml;\n",
              "          element.appendChild(docLink);\n",
              "        }\n",
              "      </script>\n",
              "    </div>\n",
              "  </div>\n",
              "  "
            ]
          },
          "metadata": {},
          "execution_count": 22
        }
      ]
    },
    {
      "cell_type": "code",
      "source": [
        "user_adopted.shape"
      ],
      "metadata": {
        "colab": {
          "base_uri": "https://localhost:8080/"
        },
        "id": "a2IKeFUzHsw8",
        "outputId": "19c5b5fa-d31b-49c5-86a9-63d837adc102"
      },
      "execution_count": 23,
      "outputs": [
        {
          "output_type": "execute_result",
          "data": {
            "text/plain": [
              "(8823, 3)"
            ]
          },
          "metadata": {},
          "execution_count": 23
        }
      ]
    },
    {
      "cell_type": "code",
      "source": [
        "user_adopted[\"is_adopted\"].value_counts()"
      ],
      "metadata": {
        "colab": {
          "base_uri": "https://localhost:8080/"
        },
        "id": "qny66nxWhU6N",
        "outputId": "d7a423ae-1c32-40a3-d217-f0789975fb8d"
      },
      "execution_count": 24,
      "outputs": [
        {
          "output_type": "execute_result",
          "data": {
            "text/plain": [
              "0    7221\n",
              "1    1602\n",
              "Name: is_adopted, dtype: int64"
            ]
          },
          "metadata": {},
          "execution_count": 24
        }
      ]
    },
    {
      "cell_type": "code",
      "source": [
        "# Now merge two dataframes to create a new data frame.\n",
        "# How=left is used as we need to populate the user_details df with \"is_adopted\" column\n",
        "\n",
        "df_merged = pd.merge(user_details,user_adopted, left_on=\"object_id\", right_on=\"user_id\", how=\"left\")\n",
        "df_merged.head(20)"
      ],
      "metadata": {
        "id": "MOaUIMvJh6qx",
        "colab": {
          "base_uri": "https://localhost:8080/",
          "height": 1000
        },
        "outputId": "eb6abfe5-727a-4523-fe85-0afc30c3bd6b"
      },
      "execution_count": 25,
      "outputs": [
        {
          "output_type": "execute_result",
          "data": {
            "text/plain": [
              "    object_id       creation_time               name  \\\n",
              "0           1 2014-04-22 03:53:30     Clausen August   \n",
              "1           2 2013-11-15 03:45:04      Poole Matthew   \n",
              "2           3 2013-03-19 23:14:52  Bottrill Mitchell   \n",
              "3           4 2013-05-21 08:09:28    Clausen Nicklas   \n",
              "4           5 2013-01-17 10:14:20          Raw Grace   \n",
              "5           6 2013-12-17 03:37:06      Cunha Eduardo   \n",
              "6           7 2012-12-16 13:24:32       Sewell Tyler   \n",
              "7           8 2013-07-31 05:34:02  Hamilton Danielle   \n",
              "8           9 2013-11-05 04:04:24         Amsel Paul   \n",
              "9          10 2013-01-16 22:08:03       Santos Carla   \n",
              "10         11 2013-12-26 03:55:54     Paulsen Malthe   \n",
              "11         12 2014-04-17 23:48:38    Mathiesen Lærke   \n",
              "12         13 2014-03-30 16:19:38      Fry Alexander   \n",
              "13         14 2012-10-11 16:14:33        Rivera Bret   \n",
              "14         15 2013-07-16 21:33:54        Theiss Ralf   \n",
              "15         16 2013-02-11 10:09:50         Engel René   \n",
              "16         17 2014-04-09 14:39:38   Reynolds Anthony   \n",
              "17         18 2013-08-24 00:26:46   Gregersen Celina   \n",
              "18         19 2013-05-24 14:56:36     Collins Arlene   \n",
              "19         20 2014-03-06 11:46:38      Helms Mikayla   \n",
              "\n",
              "                              email    creation_source  \\\n",
              "0          AugustCClausen@yahoo.com       GUEST_INVITE   \n",
              "1            MatthewPoole@gustr.com         ORG_INVITE   \n",
              "2        MitchellBottrill@gustr.com         ORG_INVITE   \n",
              "3         NicklasSClausen@yahoo.com       GUEST_INVITE   \n",
              "4                GraceRaw@yahoo.com       GUEST_INVITE   \n",
              "5     EduardoPereiraCunha@yahoo.com       GUEST_INVITE   \n",
              "6        TylerSewell@jourrapide.com             SIGNUP   \n",
              "7        DanielleHamilton@yahoo.com  PERSONAL_PROJECTS   \n",
              "8             PaulAmsel@hotmail.com  PERSONAL_PROJECTS   \n",
              "9     CarlaFerreiraSantos@gustr.com         ORG_INVITE   \n",
              "10         MaltheAPaulsen@gustr.com             SIGNUP   \n",
              "11        LaerkeLMathiesen@cuvox.de         ORG_INVITE   \n",
              "12           AlexanderDFry@cuvox.de         ORG_INVITE   \n",
              "13            BretKRivera@gmail.com             SIGNUP   \n",
              "14           RalfTheiss@hotmail.com  PERSONAL_PROJECTS   \n",
              "15            ReneEngel@hotmail.com  PERSONAL_PROJECTS   \n",
              "16   AnthonyReynolds@jourrapide.com       GUEST_INVITE   \n",
              "17  CelinaAGregersen@jourrapide.com       GUEST_INVITE   \n",
              "18         ArleneRCollins@gmail.com             SIGNUP   \n",
              "19               lqyvjilf@uhzdq.com             SIGNUP   \n",
              "\n",
              "   last_session_creation_time  opted_in_to_mailing_list  \\\n",
              "0         2014-04-22 03:53:30                         1   \n",
              "1         2014-03-31 03:45:04                         0   \n",
              "2         2013-03-19 23:14:52                         0   \n",
              "3         2013-05-22 08:09:28                         0   \n",
              "4         2013-01-22 10:14:20                         0   \n",
              "5         2013-12-19 03:37:06                         0   \n",
              "6         2012-12-20 13:24:32                         0   \n",
              "7                         NaT                         1   \n",
              "8                         NaT                         0   \n",
              "9         2014-06-03 22:08:03                         1   \n",
              "10        2013-12-27 03:55:54                         0   \n",
              "11                        NaT                         0   \n",
              "12        2014-03-30 16:19:38                         0   \n",
              "13        2012-10-12 16:14:33                         0   \n",
              "14                        NaT                         0   \n",
              "15                        NaT                         0   \n",
              "16        2014-04-12 14:39:38                         1   \n",
              "17                        NaT                         0   \n",
              "18        2013-05-30 14:56:36                         1   \n",
              "19        2014-05-29 11:46:38                         0   \n",
              "\n",
              "    enabled_for_marketing_drip  org_id  invited_by_user_id  user_id  \\\n",
              "0                            0      11             10803.0      1.0   \n",
              "1                            0       1               316.0      2.0   \n",
              "2                            0      94              1525.0      3.0   \n",
              "3                            0       1              5151.0      4.0   \n",
              "4                            0     193              5240.0      5.0   \n",
              "5                            0     197             11241.0      6.0   \n",
              "6                            1      37                 NaN      7.0   \n",
              "7                            1      74                 NaN      NaN   \n",
              "8                            0     302                 NaN      NaN   \n",
              "9                            1     318              4143.0     10.0   \n",
              "10                           0      69                 NaN     11.0   \n",
              "11                           0     130              9270.0      NaN   \n",
              "12                           0     254             11204.0     13.0   \n",
              "13                           0       0                 NaN     14.0   \n",
              "14                           0     175                 NaN      NaN   \n",
              "15                           0     211                 NaN      NaN   \n",
              "16                           0     175              1600.0     17.0   \n",
              "17                           0       2              3153.0      NaN   \n",
              "18                           0       0                 NaN     19.0   \n",
              "19                           0      58                 NaN     20.0   \n",
              "\n",
              "    visits_7_days  is_adopted  \n",
              "0             1.0         0.0  \n",
              "1             3.0         1.0  \n",
              "2             1.0         0.0  \n",
              "3             1.0         0.0  \n",
              "4             1.0         0.0  \n",
              "5             1.0         0.0  \n",
              "6             1.0         0.0  \n",
              "7             NaN         NaN  \n",
              "8             NaN         NaN  \n",
              "9             7.0         1.0  \n",
              "10            1.0         0.0  \n",
              "11            NaN         NaN  \n",
              "12            1.0         0.0  \n",
              "13            1.0         0.0  \n",
              "14            NaN         NaN  \n",
              "15            NaN         NaN  \n",
              "16            1.0         0.0  \n",
              "17            NaN         NaN  \n",
              "18            2.0         0.0  \n",
              "19            3.0         1.0  "
            ],
            "text/html": [
              "\n",
              "  <div id=\"df-fddc7402-d698-48d9-9d68-993000d4607b\">\n",
              "    <div class=\"colab-df-container\">\n",
              "      <div>\n",
              "<style scoped>\n",
              "    .dataframe tbody tr th:only-of-type {\n",
              "        vertical-align: middle;\n",
              "    }\n",
              "\n",
              "    .dataframe tbody tr th {\n",
              "        vertical-align: top;\n",
              "    }\n",
              "\n",
              "    .dataframe thead th {\n",
              "        text-align: right;\n",
              "    }\n",
              "</style>\n",
              "<table border=\"1\" class=\"dataframe\">\n",
              "  <thead>\n",
              "    <tr style=\"text-align: right;\">\n",
              "      <th></th>\n",
              "      <th>object_id</th>\n",
              "      <th>creation_time</th>\n",
              "      <th>name</th>\n",
              "      <th>email</th>\n",
              "      <th>creation_source</th>\n",
              "      <th>last_session_creation_time</th>\n",
              "      <th>opted_in_to_mailing_list</th>\n",
              "      <th>enabled_for_marketing_drip</th>\n",
              "      <th>org_id</th>\n",
              "      <th>invited_by_user_id</th>\n",
              "      <th>user_id</th>\n",
              "      <th>visits_7_days</th>\n",
              "      <th>is_adopted</th>\n",
              "    </tr>\n",
              "  </thead>\n",
              "  <tbody>\n",
              "    <tr>\n",
              "      <th>0</th>\n",
              "      <td>1</td>\n",
              "      <td>2014-04-22 03:53:30</td>\n",
              "      <td>Clausen August</td>\n",
              "      <td>AugustCClausen@yahoo.com</td>\n",
              "      <td>GUEST_INVITE</td>\n",
              "      <td>2014-04-22 03:53:30</td>\n",
              "      <td>1</td>\n",
              "      <td>0</td>\n",
              "      <td>11</td>\n",
              "      <td>10803.0</td>\n",
              "      <td>1.0</td>\n",
              "      <td>1.0</td>\n",
              "      <td>0.0</td>\n",
              "    </tr>\n",
              "    <tr>\n",
              "      <th>1</th>\n",
              "      <td>2</td>\n",
              "      <td>2013-11-15 03:45:04</td>\n",
              "      <td>Poole Matthew</td>\n",
              "      <td>MatthewPoole@gustr.com</td>\n",
              "      <td>ORG_INVITE</td>\n",
              "      <td>2014-03-31 03:45:04</td>\n",
              "      <td>0</td>\n",
              "      <td>0</td>\n",
              "      <td>1</td>\n",
              "      <td>316.0</td>\n",
              "      <td>2.0</td>\n",
              "      <td>3.0</td>\n",
              "      <td>1.0</td>\n",
              "    </tr>\n",
              "    <tr>\n",
              "      <th>2</th>\n",
              "      <td>3</td>\n",
              "      <td>2013-03-19 23:14:52</td>\n",
              "      <td>Bottrill Mitchell</td>\n",
              "      <td>MitchellBottrill@gustr.com</td>\n",
              "      <td>ORG_INVITE</td>\n",
              "      <td>2013-03-19 23:14:52</td>\n",
              "      <td>0</td>\n",
              "      <td>0</td>\n",
              "      <td>94</td>\n",
              "      <td>1525.0</td>\n",
              "      <td>3.0</td>\n",
              "      <td>1.0</td>\n",
              "      <td>0.0</td>\n",
              "    </tr>\n",
              "    <tr>\n",
              "      <th>3</th>\n",
              "      <td>4</td>\n",
              "      <td>2013-05-21 08:09:28</td>\n",
              "      <td>Clausen Nicklas</td>\n",
              "      <td>NicklasSClausen@yahoo.com</td>\n",
              "      <td>GUEST_INVITE</td>\n",
              "      <td>2013-05-22 08:09:28</td>\n",
              "      <td>0</td>\n",
              "      <td>0</td>\n",
              "      <td>1</td>\n",
              "      <td>5151.0</td>\n",
              "      <td>4.0</td>\n",
              "      <td>1.0</td>\n",
              "      <td>0.0</td>\n",
              "    </tr>\n",
              "    <tr>\n",
              "      <th>4</th>\n",
              "      <td>5</td>\n",
              "      <td>2013-01-17 10:14:20</td>\n",
              "      <td>Raw Grace</td>\n",
              "      <td>GraceRaw@yahoo.com</td>\n",
              "      <td>GUEST_INVITE</td>\n",
              "      <td>2013-01-22 10:14:20</td>\n",
              "      <td>0</td>\n",
              "      <td>0</td>\n",
              "      <td>193</td>\n",
              "      <td>5240.0</td>\n",
              "      <td>5.0</td>\n",
              "      <td>1.0</td>\n",
              "      <td>0.0</td>\n",
              "    </tr>\n",
              "    <tr>\n",
              "      <th>5</th>\n",
              "      <td>6</td>\n",
              "      <td>2013-12-17 03:37:06</td>\n",
              "      <td>Cunha Eduardo</td>\n",
              "      <td>EduardoPereiraCunha@yahoo.com</td>\n",
              "      <td>GUEST_INVITE</td>\n",
              "      <td>2013-12-19 03:37:06</td>\n",
              "      <td>0</td>\n",
              "      <td>0</td>\n",
              "      <td>197</td>\n",
              "      <td>11241.0</td>\n",
              "      <td>6.0</td>\n",
              "      <td>1.0</td>\n",
              "      <td>0.0</td>\n",
              "    </tr>\n",
              "    <tr>\n",
              "      <th>6</th>\n",
              "      <td>7</td>\n",
              "      <td>2012-12-16 13:24:32</td>\n",
              "      <td>Sewell Tyler</td>\n",
              "      <td>TylerSewell@jourrapide.com</td>\n",
              "      <td>SIGNUP</td>\n",
              "      <td>2012-12-20 13:24:32</td>\n",
              "      <td>0</td>\n",
              "      <td>1</td>\n",
              "      <td>37</td>\n",
              "      <td>NaN</td>\n",
              "      <td>7.0</td>\n",
              "      <td>1.0</td>\n",
              "      <td>0.0</td>\n",
              "    </tr>\n",
              "    <tr>\n",
              "      <th>7</th>\n",
              "      <td>8</td>\n",
              "      <td>2013-07-31 05:34:02</td>\n",
              "      <td>Hamilton Danielle</td>\n",
              "      <td>DanielleHamilton@yahoo.com</td>\n",
              "      <td>PERSONAL_PROJECTS</td>\n",
              "      <td>NaT</td>\n",
              "      <td>1</td>\n",
              "      <td>1</td>\n",
              "      <td>74</td>\n",
              "      <td>NaN</td>\n",
              "      <td>NaN</td>\n",
              "      <td>NaN</td>\n",
              "      <td>NaN</td>\n",
              "    </tr>\n",
              "    <tr>\n",
              "      <th>8</th>\n",
              "      <td>9</td>\n",
              "      <td>2013-11-05 04:04:24</td>\n",
              "      <td>Amsel Paul</td>\n",
              "      <td>PaulAmsel@hotmail.com</td>\n",
              "      <td>PERSONAL_PROJECTS</td>\n",
              "      <td>NaT</td>\n",
              "      <td>0</td>\n",
              "      <td>0</td>\n",
              "      <td>302</td>\n",
              "      <td>NaN</td>\n",
              "      <td>NaN</td>\n",
              "      <td>NaN</td>\n",
              "      <td>NaN</td>\n",
              "    </tr>\n",
              "    <tr>\n",
              "      <th>9</th>\n",
              "      <td>10</td>\n",
              "      <td>2013-01-16 22:08:03</td>\n",
              "      <td>Santos Carla</td>\n",
              "      <td>CarlaFerreiraSantos@gustr.com</td>\n",
              "      <td>ORG_INVITE</td>\n",
              "      <td>2014-06-03 22:08:03</td>\n",
              "      <td>1</td>\n",
              "      <td>1</td>\n",
              "      <td>318</td>\n",
              "      <td>4143.0</td>\n",
              "      <td>10.0</td>\n",
              "      <td>7.0</td>\n",
              "      <td>1.0</td>\n",
              "    </tr>\n",
              "    <tr>\n",
              "      <th>10</th>\n",
              "      <td>11</td>\n",
              "      <td>2013-12-26 03:55:54</td>\n",
              "      <td>Paulsen Malthe</td>\n",
              "      <td>MaltheAPaulsen@gustr.com</td>\n",
              "      <td>SIGNUP</td>\n",
              "      <td>2013-12-27 03:55:54</td>\n",
              "      <td>0</td>\n",
              "      <td>0</td>\n",
              "      <td>69</td>\n",
              "      <td>NaN</td>\n",
              "      <td>11.0</td>\n",
              "      <td>1.0</td>\n",
              "      <td>0.0</td>\n",
              "    </tr>\n",
              "    <tr>\n",
              "      <th>11</th>\n",
              "      <td>12</td>\n",
              "      <td>2014-04-17 23:48:38</td>\n",
              "      <td>Mathiesen Lærke</td>\n",
              "      <td>LaerkeLMathiesen@cuvox.de</td>\n",
              "      <td>ORG_INVITE</td>\n",
              "      <td>NaT</td>\n",
              "      <td>0</td>\n",
              "      <td>0</td>\n",
              "      <td>130</td>\n",
              "      <td>9270.0</td>\n",
              "      <td>NaN</td>\n",
              "      <td>NaN</td>\n",
              "      <td>NaN</td>\n",
              "    </tr>\n",
              "    <tr>\n",
              "      <th>12</th>\n",
              "      <td>13</td>\n",
              "      <td>2014-03-30 16:19:38</td>\n",
              "      <td>Fry Alexander</td>\n",
              "      <td>AlexanderDFry@cuvox.de</td>\n",
              "      <td>ORG_INVITE</td>\n",
              "      <td>2014-03-30 16:19:38</td>\n",
              "      <td>0</td>\n",
              "      <td>0</td>\n",
              "      <td>254</td>\n",
              "      <td>11204.0</td>\n",
              "      <td>13.0</td>\n",
              "      <td>1.0</td>\n",
              "      <td>0.0</td>\n",
              "    </tr>\n",
              "    <tr>\n",
              "      <th>13</th>\n",
              "      <td>14</td>\n",
              "      <td>2012-10-11 16:14:33</td>\n",
              "      <td>Rivera Bret</td>\n",
              "      <td>BretKRivera@gmail.com</td>\n",
              "      <td>SIGNUP</td>\n",
              "      <td>2012-10-12 16:14:33</td>\n",
              "      <td>0</td>\n",
              "      <td>0</td>\n",
              "      <td>0</td>\n",
              "      <td>NaN</td>\n",
              "      <td>14.0</td>\n",
              "      <td>1.0</td>\n",
              "      <td>0.0</td>\n",
              "    </tr>\n",
              "    <tr>\n",
              "      <th>14</th>\n",
              "      <td>15</td>\n",
              "      <td>2013-07-16 21:33:54</td>\n",
              "      <td>Theiss Ralf</td>\n",
              "      <td>RalfTheiss@hotmail.com</td>\n",
              "      <td>PERSONAL_PROJECTS</td>\n",
              "      <td>NaT</td>\n",
              "      <td>0</td>\n",
              "      <td>0</td>\n",
              "      <td>175</td>\n",
              "      <td>NaN</td>\n",
              "      <td>NaN</td>\n",
              "      <td>NaN</td>\n",
              "      <td>NaN</td>\n",
              "    </tr>\n",
              "    <tr>\n",
              "      <th>15</th>\n",
              "      <td>16</td>\n",
              "      <td>2013-02-11 10:09:50</td>\n",
              "      <td>Engel René</td>\n",
              "      <td>ReneEngel@hotmail.com</td>\n",
              "      <td>PERSONAL_PROJECTS</td>\n",
              "      <td>NaT</td>\n",
              "      <td>0</td>\n",
              "      <td>0</td>\n",
              "      <td>211</td>\n",
              "      <td>NaN</td>\n",
              "      <td>NaN</td>\n",
              "      <td>NaN</td>\n",
              "      <td>NaN</td>\n",
              "    </tr>\n",
              "    <tr>\n",
              "      <th>16</th>\n",
              "      <td>17</td>\n",
              "      <td>2014-04-09 14:39:38</td>\n",
              "      <td>Reynolds Anthony</td>\n",
              "      <td>AnthonyReynolds@jourrapide.com</td>\n",
              "      <td>GUEST_INVITE</td>\n",
              "      <td>2014-04-12 14:39:38</td>\n",
              "      <td>1</td>\n",
              "      <td>0</td>\n",
              "      <td>175</td>\n",
              "      <td>1600.0</td>\n",
              "      <td>17.0</td>\n",
              "      <td>1.0</td>\n",
              "      <td>0.0</td>\n",
              "    </tr>\n",
              "    <tr>\n",
              "      <th>17</th>\n",
              "      <td>18</td>\n",
              "      <td>2013-08-24 00:26:46</td>\n",
              "      <td>Gregersen Celina</td>\n",
              "      <td>CelinaAGregersen@jourrapide.com</td>\n",
              "      <td>GUEST_INVITE</td>\n",
              "      <td>NaT</td>\n",
              "      <td>0</td>\n",
              "      <td>0</td>\n",
              "      <td>2</td>\n",
              "      <td>3153.0</td>\n",
              "      <td>NaN</td>\n",
              "      <td>NaN</td>\n",
              "      <td>NaN</td>\n",
              "    </tr>\n",
              "    <tr>\n",
              "      <th>18</th>\n",
              "      <td>19</td>\n",
              "      <td>2013-05-24 14:56:36</td>\n",
              "      <td>Collins Arlene</td>\n",
              "      <td>ArleneRCollins@gmail.com</td>\n",
              "      <td>SIGNUP</td>\n",
              "      <td>2013-05-30 14:56:36</td>\n",
              "      <td>1</td>\n",
              "      <td>0</td>\n",
              "      <td>0</td>\n",
              "      <td>NaN</td>\n",
              "      <td>19.0</td>\n",
              "      <td>2.0</td>\n",
              "      <td>0.0</td>\n",
              "    </tr>\n",
              "    <tr>\n",
              "      <th>19</th>\n",
              "      <td>20</td>\n",
              "      <td>2014-03-06 11:46:38</td>\n",
              "      <td>Helms Mikayla</td>\n",
              "      <td>lqyvjilf@uhzdq.com</td>\n",
              "      <td>SIGNUP</td>\n",
              "      <td>2014-05-29 11:46:38</td>\n",
              "      <td>0</td>\n",
              "      <td>0</td>\n",
              "      <td>58</td>\n",
              "      <td>NaN</td>\n",
              "      <td>20.0</td>\n",
              "      <td>3.0</td>\n",
              "      <td>1.0</td>\n",
              "    </tr>\n",
              "  </tbody>\n",
              "</table>\n",
              "</div>\n",
              "      <button class=\"colab-df-convert\" onclick=\"convertToInteractive('df-fddc7402-d698-48d9-9d68-993000d4607b')\"\n",
              "              title=\"Convert this dataframe to an interactive table.\"\n",
              "              style=\"display:none;\">\n",
              "        \n",
              "  <svg xmlns=\"http://www.w3.org/2000/svg\" height=\"24px\"viewBox=\"0 0 24 24\"\n",
              "       width=\"24px\">\n",
              "    <path d=\"M0 0h24v24H0V0z\" fill=\"none\"/>\n",
              "    <path d=\"M18.56 5.44l.94 2.06.94-2.06 2.06-.94-2.06-.94-.94-2.06-.94 2.06-2.06.94zm-11 1L8.5 8.5l.94-2.06 2.06-.94-2.06-.94L8.5 2.5l-.94 2.06-2.06.94zm10 10l.94 2.06.94-2.06 2.06-.94-2.06-.94-.94-2.06-.94 2.06-2.06.94z\"/><path d=\"M17.41 7.96l-1.37-1.37c-.4-.4-.92-.59-1.43-.59-.52 0-1.04.2-1.43.59L10.3 9.45l-7.72 7.72c-.78.78-.78 2.05 0 2.83L4 21.41c.39.39.9.59 1.41.59.51 0 1.02-.2 1.41-.59l7.78-7.78 2.81-2.81c.8-.78.8-2.07 0-2.86zM5.41 20L4 18.59l7.72-7.72 1.47 1.35L5.41 20z\"/>\n",
              "  </svg>\n",
              "      </button>\n",
              "      \n",
              "  <style>\n",
              "    .colab-df-container {\n",
              "      display:flex;\n",
              "      flex-wrap:wrap;\n",
              "      gap: 12px;\n",
              "    }\n",
              "\n",
              "    .colab-df-convert {\n",
              "      background-color: #E8F0FE;\n",
              "      border: none;\n",
              "      border-radius: 50%;\n",
              "      cursor: pointer;\n",
              "      display: none;\n",
              "      fill: #1967D2;\n",
              "      height: 32px;\n",
              "      padding: 0 0 0 0;\n",
              "      width: 32px;\n",
              "    }\n",
              "\n",
              "    .colab-df-convert:hover {\n",
              "      background-color: #E2EBFA;\n",
              "      box-shadow: 0px 1px 2px rgba(60, 64, 67, 0.3), 0px 1px 3px 1px rgba(60, 64, 67, 0.15);\n",
              "      fill: #174EA6;\n",
              "    }\n",
              "\n",
              "    [theme=dark] .colab-df-convert {\n",
              "      background-color: #3B4455;\n",
              "      fill: #D2E3FC;\n",
              "    }\n",
              "\n",
              "    [theme=dark] .colab-df-convert:hover {\n",
              "      background-color: #434B5C;\n",
              "      box-shadow: 0px 1px 3px 1px rgba(0, 0, 0, 0.15);\n",
              "      filter: drop-shadow(0px 1px 2px rgba(0, 0, 0, 0.3));\n",
              "      fill: #FFFFFF;\n",
              "    }\n",
              "  </style>\n",
              "\n",
              "      <script>\n",
              "        const buttonEl =\n",
              "          document.querySelector('#df-fddc7402-d698-48d9-9d68-993000d4607b button.colab-df-convert');\n",
              "        buttonEl.style.display =\n",
              "          google.colab.kernel.accessAllowed ? 'block' : 'none';\n",
              "\n",
              "        async function convertToInteractive(key) {\n",
              "          const element = document.querySelector('#df-fddc7402-d698-48d9-9d68-993000d4607b');\n",
              "          const dataTable =\n",
              "            await google.colab.kernel.invokeFunction('convertToInteractive',\n",
              "                                                     [key], {});\n",
              "          if (!dataTable) return;\n",
              "\n",
              "          const docLinkHtml = 'Like what you see? Visit the ' +\n",
              "            '<a target=\"_blank\" href=https://colab.research.google.com/notebooks/data_table.ipynb>data table notebook</a>'\n",
              "            + ' to learn more about interactive tables.';\n",
              "          element.innerHTML = '';\n",
              "          dataTable['output_type'] = 'display_data';\n",
              "          await google.colab.output.renderOutput(dataTable, element);\n",
              "          const docLink = document.createElement('div');\n",
              "          docLink.innerHTML = docLinkHtml;\n",
              "          element.appendChild(docLink);\n",
              "        }\n",
              "      </script>\n",
              "    </div>\n",
              "  </div>\n",
              "  "
            ]
          },
          "metadata": {},
          "execution_count": 25
        }
      ]
    },
    {
      "cell_type": "code",
      "source": [
        "df_merged.shape"
      ],
      "metadata": {
        "colab": {
          "base_uri": "https://localhost:8080/"
        },
        "id": "Jxf4f0uF8tvQ",
        "outputId": "e17f7352-d82d-41bd-aec5-61b25a030610"
      },
      "execution_count": 26,
      "outputs": [
        {
          "output_type": "execute_result",
          "data": {
            "text/plain": [
              "(12000, 13)"
            ]
          },
          "metadata": {},
          "execution_count": 26
        }
      ]
    },
    {
      "cell_type": "code",
      "source": [
        "df_merged.isnull().sum()"
      ],
      "metadata": {
        "id": "5P-gdl71ixbB",
        "colab": {
          "base_uri": "https://localhost:8080/"
        },
        "outputId": "98eea5be-76b1-4d5c-8867-8976c0bea1a8"
      },
      "execution_count": 27,
      "outputs": [
        {
          "output_type": "execute_result",
          "data": {
            "text/plain": [
              "object_id                        0\n",
              "creation_time                    0\n",
              "name                             0\n",
              "email                            0\n",
              "creation_source                  0\n",
              "last_session_creation_time    3177\n",
              "opted_in_to_mailing_list         0\n",
              "enabled_for_marketing_drip       0\n",
              "org_id                           0\n",
              "invited_by_user_id            5583\n",
              "user_id                       3177\n",
              "visits_7_days                 3177\n",
              "is_adopted                    3177\n",
              "dtype: int64"
            ]
          },
          "metadata": {},
          "execution_count": 27
        }
      ]
    },
    {
      "cell_type": "code",
      "source": [
        "# Filling \"invited_by_user_id\" with 0\n",
        "# as these users were not invited by anyone.\n",
        "df_merged[\"invited_by_user_id\"].fillna(0, inplace=True)"
      ],
      "metadata": {
        "id": "ldmsRmFJFwTn"
      },
      "execution_count": 28,
      "outputs": []
    },
    {
      "cell_type": "code",
      "source": [
        "# Last creation time are missing due to the fact that\n",
        "# these users didn't log in after creating their account.\n",
        "# So, I will replace them with the creation_time values.\n",
        "df_merged[\"last_session_creation_time\"].fillna(df_merged[\"creation_time\"], inplace=True)"
      ],
      "metadata": {
        "id": "MZ1Xt7PtacQ3"
      },
      "execution_count": 29,
      "outputs": []
    },
    {
      "cell_type": "code",
      "source": [
        "# Data for object_id 8 was missing earlier. Check if it was replaced properly\n",
        "df_merged.iloc[7]"
      ],
      "metadata": {
        "colab": {
          "base_uri": "https://localhost:8080/"
        },
        "id": "7X7YlTDacS3o",
        "outputId": "76950f2f-a1b3-40ce-addd-29ac9c682b21"
      },
      "execution_count": 30,
      "outputs": [
        {
          "output_type": "execute_result",
          "data": {
            "text/plain": [
              "object_id                                              8\n",
              "creation_time                        2013-07-31 05:34:02\n",
              "name                                   Hamilton Danielle\n",
              "email                         DanielleHamilton@yahoo.com\n",
              "creation_source                        PERSONAL_PROJECTS\n",
              "last_session_creation_time           2013-07-31 05:34:02\n",
              "opted_in_to_mailing_list                               1\n",
              "enabled_for_marketing_drip                             1\n",
              "org_id                                                74\n",
              "invited_by_user_id                                   0.0\n",
              "user_id                                              NaN\n",
              "visits_7_days                                        NaN\n",
              "is_adopted                                           NaN\n",
              "Name: 7, dtype: object"
            ]
          },
          "metadata": {},
          "execution_count": 30
        }
      ]
    },
    {
      "cell_type": "code",
      "source": [
        "df_merged.isnull().sum()"
      ],
      "metadata": {
        "colab": {
          "base_uri": "https://localhost:8080/"
        },
        "id": "lXWZKtN_cy-2",
        "outputId": "3e8d2fbb-a427-49df-e777-f91bf2ce7fb4"
      },
      "execution_count": 31,
      "outputs": [
        {
          "output_type": "execute_result",
          "data": {
            "text/plain": [
              "object_id                        0\n",
              "creation_time                    0\n",
              "name                             0\n",
              "email                            0\n",
              "creation_source                  0\n",
              "last_session_creation_time       0\n",
              "opted_in_to_mailing_list         0\n",
              "enabled_for_marketing_drip       0\n",
              "org_id                           0\n",
              "invited_by_user_id               0\n",
              "user_id                       3177\n",
              "visits_7_days                 3177\n",
              "is_adopted                    3177\n",
              "dtype: int64"
            ]
          },
          "metadata": {},
          "execution_count": 31
        }
      ]
    },
    {
      "cell_type": "code",
      "source": [
        "# These 3177 users are those who did'nt log in after creating their account.\n",
        "# So all of them are NOT ADOPTED.\n",
        "# I will replace them with 0.\n",
        "df_merged[\"is_adopted\"].fillna(0, inplace=True)"
      ],
      "metadata": {
        "id": "PPvhsSLqc-x1"
      },
      "execution_count": 32,
      "outputs": []
    },
    {
      "cell_type": "code",
      "source": [
        "df_merged.isnull().sum()"
      ],
      "metadata": {
        "colab": {
          "base_uri": "https://localhost:8080/"
        },
        "id": "Ew_duKqjdf9n",
        "outputId": "1956bb20-c10f-4246-f3d0-ef63b846e6cc"
      },
      "execution_count": 33,
      "outputs": [
        {
          "output_type": "execute_result",
          "data": {
            "text/plain": [
              "object_id                        0\n",
              "creation_time                    0\n",
              "name                             0\n",
              "email                            0\n",
              "creation_source                  0\n",
              "last_session_creation_time       0\n",
              "opted_in_to_mailing_list         0\n",
              "enabled_for_marketing_drip       0\n",
              "org_id                           0\n",
              "invited_by_user_id               0\n",
              "user_id                       3177\n",
              "visits_7_days                 3177\n",
              "is_adopted                       0\n",
              "dtype: int64"
            ]
          },
          "metadata": {},
          "execution_count": 33
        }
      ]
    },
    {
      "cell_type": "code",
      "source": [
        "# user_id and visits_7_days are redundant columns.\n",
        "# I will drop these columns.\n",
        "df_merged = df_merged.drop([\"user_id\",\"visits_7_days\"], axis=1)"
      ],
      "metadata": {
        "id": "jBzXXopk8aTj"
      },
      "execution_count": 34,
      "outputs": []
    },
    {
      "cell_type": "code",
      "source": [
        "# Create a new feature called is_invited\n",
        "# Assign it 1 if invited by someone else 0.\n",
        "df_merged[\"is_invited\"] = (df_merged[\"invited_by_user_id\"]> 0).astype(int)"
      ],
      "metadata": {
        "id": "tJPztReieoXx"
      },
      "execution_count": 35,
      "outputs": []
    },
    {
      "cell_type": "code",
      "source": [
        "# Create a few more features from the present data set\n",
        "df_merged[\"year\"]           = df_merged[\"last_session_creation_time\"].dt.year\n",
        "df_merged[\"month\"]          = df_merged[\"last_session_creation_time\"].dt.month\n",
        "df_merged[\"day\"]            = df_merged[\"last_session_creation_time\"].dt.day\n",
        "df_merged[\"weekday\"]        = df_merged[\"last_session_creation_time\"].dt.weekday\n",
        "\n",
        "df_merged[\"creation_year\"]  = df_merged[\"creation_time\"].dt.year\n",
        "df_merged[\"creation_month\"] = df_merged[\"creation_time\"].dt.month\n",
        "df_merged[\"creation_date\"]  = df_merged[\"creation_time\"].dt.day\n",
        "df_merged[\"creation_day\"]   = df_merged[\"creation_time\"].dt.weekday\n",
        "\n",
        "# Creating another feature as age.\n",
        "# Priliminary expectation is: aged users will visit more frequently\n",
        "df_merged[\"age\"]            = (df_merged[\"last_session_creation_time\"] - \n",
        "                              df_merged[\"creation_time\"])/np.timedelta64(1, 'D')"
      ],
      "metadata": {
        "id": "U3Mf1-Vv9n5m"
      },
      "execution_count": 36,
      "outputs": []
    },
    {
      "cell_type": "code",
      "source": [
        "df_merged.columns"
      ],
      "metadata": {
        "id": "feKR-o9RGTcZ",
        "colab": {
          "base_uri": "https://localhost:8080/"
        },
        "outputId": "8d9fe7e0-8fa9-4dca-b61e-4664f691913b"
      },
      "execution_count": 37,
      "outputs": [
        {
          "output_type": "execute_result",
          "data": {
            "text/plain": [
              "Index(['object_id', 'creation_time', 'name', 'email', 'creation_source',\n",
              "       'last_session_creation_time', 'opted_in_to_mailing_list',\n",
              "       'enabled_for_marketing_drip', 'org_id', 'invited_by_user_id',\n",
              "       'is_adopted', 'is_invited', 'year', 'month', 'day', 'weekday',\n",
              "       'creation_year', 'creation_month', 'creation_date', 'creation_day',\n",
              "       'age'],\n",
              "      dtype='object')"
            ]
          },
          "metadata": {},
          "execution_count": 37
        }
      ]
    },
    {
      "cell_type": "code",
      "source": [
        "# Removing redundant features\n",
        "df_merged = df_merged.drop(['last_session_creation_time','object_id', \n",
        "                            'creation_time', 'name', 'email'], axis=1)"
      ],
      "metadata": {
        "id": "8qAfyXs6A9Yp"
      },
      "execution_count": 38,
      "outputs": []
    },
    {
      "cell_type": "code",
      "source": [
        "# This is my final dataframe\n",
        "df_merged.head()"
      ],
      "metadata": {
        "colab": {
          "base_uri": "https://localhost:8080/",
          "height": 270
        },
        "id": "qH2Cyk5U-ozC",
        "outputId": "98deb199-9bfd-4320-fb5c-cd75defbc45b"
      },
      "execution_count": 39,
      "outputs": [
        {
          "output_type": "execute_result",
          "data": {
            "text/plain": [
              "  creation_source  opted_in_to_mailing_list  enabled_for_marketing_drip  \\\n",
              "0    GUEST_INVITE                         1                           0   \n",
              "1      ORG_INVITE                         0                           0   \n",
              "2      ORG_INVITE                         0                           0   \n",
              "3    GUEST_INVITE                         0                           0   \n",
              "4    GUEST_INVITE                         0                           0   \n",
              "\n",
              "   org_id  invited_by_user_id  is_adopted  is_invited  year  month  day  \\\n",
              "0      11             10803.0         0.0           1  2014      4   22   \n",
              "1       1               316.0         1.0           1  2014      3   31   \n",
              "2      94              1525.0         0.0           1  2013      3   19   \n",
              "3       1              5151.0         0.0           1  2013      5   22   \n",
              "4     193              5240.0         0.0           1  2013      1   22   \n",
              "\n",
              "   weekday  creation_year  creation_month  creation_date  creation_day    age  \n",
              "0        1           2014               4             22             1    0.0  \n",
              "1        0           2013              11             15             4  136.0  \n",
              "2        1           2013               3             19             1    0.0  \n",
              "3        2           2013               5             21             1    1.0  \n",
              "4        1           2013               1             17             3    5.0  "
            ],
            "text/html": [
              "\n",
              "  <div id=\"df-e881f1a4-03f0-478e-a0a1-0ce138f6e76a\">\n",
              "    <div class=\"colab-df-container\">\n",
              "      <div>\n",
              "<style scoped>\n",
              "    .dataframe tbody tr th:only-of-type {\n",
              "        vertical-align: middle;\n",
              "    }\n",
              "\n",
              "    .dataframe tbody tr th {\n",
              "        vertical-align: top;\n",
              "    }\n",
              "\n",
              "    .dataframe thead th {\n",
              "        text-align: right;\n",
              "    }\n",
              "</style>\n",
              "<table border=\"1\" class=\"dataframe\">\n",
              "  <thead>\n",
              "    <tr style=\"text-align: right;\">\n",
              "      <th></th>\n",
              "      <th>creation_source</th>\n",
              "      <th>opted_in_to_mailing_list</th>\n",
              "      <th>enabled_for_marketing_drip</th>\n",
              "      <th>org_id</th>\n",
              "      <th>invited_by_user_id</th>\n",
              "      <th>is_adopted</th>\n",
              "      <th>is_invited</th>\n",
              "      <th>year</th>\n",
              "      <th>month</th>\n",
              "      <th>day</th>\n",
              "      <th>weekday</th>\n",
              "      <th>creation_year</th>\n",
              "      <th>creation_month</th>\n",
              "      <th>creation_date</th>\n",
              "      <th>creation_day</th>\n",
              "      <th>age</th>\n",
              "    </tr>\n",
              "  </thead>\n",
              "  <tbody>\n",
              "    <tr>\n",
              "      <th>0</th>\n",
              "      <td>GUEST_INVITE</td>\n",
              "      <td>1</td>\n",
              "      <td>0</td>\n",
              "      <td>11</td>\n",
              "      <td>10803.0</td>\n",
              "      <td>0.0</td>\n",
              "      <td>1</td>\n",
              "      <td>2014</td>\n",
              "      <td>4</td>\n",
              "      <td>22</td>\n",
              "      <td>1</td>\n",
              "      <td>2014</td>\n",
              "      <td>4</td>\n",
              "      <td>22</td>\n",
              "      <td>1</td>\n",
              "      <td>0.0</td>\n",
              "    </tr>\n",
              "    <tr>\n",
              "      <th>1</th>\n",
              "      <td>ORG_INVITE</td>\n",
              "      <td>0</td>\n",
              "      <td>0</td>\n",
              "      <td>1</td>\n",
              "      <td>316.0</td>\n",
              "      <td>1.0</td>\n",
              "      <td>1</td>\n",
              "      <td>2014</td>\n",
              "      <td>3</td>\n",
              "      <td>31</td>\n",
              "      <td>0</td>\n",
              "      <td>2013</td>\n",
              "      <td>11</td>\n",
              "      <td>15</td>\n",
              "      <td>4</td>\n",
              "      <td>136.0</td>\n",
              "    </tr>\n",
              "    <tr>\n",
              "      <th>2</th>\n",
              "      <td>ORG_INVITE</td>\n",
              "      <td>0</td>\n",
              "      <td>0</td>\n",
              "      <td>94</td>\n",
              "      <td>1525.0</td>\n",
              "      <td>0.0</td>\n",
              "      <td>1</td>\n",
              "      <td>2013</td>\n",
              "      <td>3</td>\n",
              "      <td>19</td>\n",
              "      <td>1</td>\n",
              "      <td>2013</td>\n",
              "      <td>3</td>\n",
              "      <td>19</td>\n",
              "      <td>1</td>\n",
              "      <td>0.0</td>\n",
              "    </tr>\n",
              "    <tr>\n",
              "      <th>3</th>\n",
              "      <td>GUEST_INVITE</td>\n",
              "      <td>0</td>\n",
              "      <td>0</td>\n",
              "      <td>1</td>\n",
              "      <td>5151.0</td>\n",
              "      <td>0.0</td>\n",
              "      <td>1</td>\n",
              "      <td>2013</td>\n",
              "      <td>5</td>\n",
              "      <td>22</td>\n",
              "      <td>2</td>\n",
              "      <td>2013</td>\n",
              "      <td>5</td>\n",
              "      <td>21</td>\n",
              "      <td>1</td>\n",
              "      <td>1.0</td>\n",
              "    </tr>\n",
              "    <tr>\n",
              "      <th>4</th>\n",
              "      <td>GUEST_INVITE</td>\n",
              "      <td>0</td>\n",
              "      <td>0</td>\n",
              "      <td>193</td>\n",
              "      <td>5240.0</td>\n",
              "      <td>0.0</td>\n",
              "      <td>1</td>\n",
              "      <td>2013</td>\n",
              "      <td>1</td>\n",
              "      <td>22</td>\n",
              "      <td>1</td>\n",
              "      <td>2013</td>\n",
              "      <td>1</td>\n",
              "      <td>17</td>\n",
              "      <td>3</td>\n",
              "      <td>5.0</td>\n",
              "    </tr>\n",
              "  </tbody>\n",
              "</table>\n",
              "</div>\n",
              "      <button class=\"colab-df-convert\" onclick=\"convertToInteractive('df-e881f1a4-03f0-478e-a0a1-0ce138f6e76a')\"\n",
              "              title=\"Convert this dataframe to an interactive table.\"\n",
              "              style=\"display:none;\">\n",
              "        \n",
              "  <svg xmlns=\"http://www.w3.org/2000/svg\" height=\"24px\"viewBox=\"0 0 24 24\"\n",
              "       width=\"24px\">\n",
              "    <path d=\"M0 0h24v24H0V0z\" fill=\"none\"/>\n",
              "    <path d=\"M18.56 5.44l.94 2.06.94-2.06 2.06-.94-2.06-.94-.94-2.06-.94 2.06-2.06.94zm-11 1L8.5 8.5l.94-2.06 2.06-.94-2.06-.94L8.5 2.5l-.94 2.06-2.06.94zm10 10l.94 2.06.94-2.06 2.06-.94-2.06-.94-.94-2.06-.94 2.06-2.06.94z\"/><path d=\"M17.41 7.96l-1.37-1.37c-.4-.4-.92-.59-1.43-.59-.52 0-1.04.2-1.43.59L10.3 9.45l-7.72 7.72c-.78.78-.78 2.05 0 2.83L4 21.41c.39.39.9.59 1.41.59.51 0 1.02-.2 1.41-.59l7.78-7.78 2.81-2.81c.8-.78.8-2.07 0-2.86zM5.41 20L4 18.59l7.72-7.72 1.47 1.35L5.41 20z\"/>\n",
              "  </svg>\n",
              "      </button>\n",
              "      \n",
              "  <style>\n",
              "    .colab-df-container {\n",
              "      display:flex;\n",
              "      flex-wrap:wrap;\n",
              "      gap: 12px;\n",
              "    }\n",
              "\n",
              "    .colab-df-convert {\n",
              "      background-color: #E8F0FE;\n",
              "      border: none;\n",
              "      border-radius: 50%;\n",
              "      cursor: pointer;\n",
              "      display: none;\n",
              "      fill: #1967D2;\n",
              "      height: 32px;\n",
              "      padding: 0 0 0 0;\n",
              "      width: 32px;\n",
              "    }\n",
              "\n",
              "    .colab-df-convert:hover {\n",
              "      background-color: #E2EBFA;\n",
              "      box-shadow: 0px 1px 2px rgba(60, 64, 67, 0.3), 0px 1px 3px 1px rgba(60, 64, 67, 0.15);\n",
              "      fill: #174EA6;\n",
              "    }\n",
              "\n",
              "    [theme=dark] .colab-df-convert {\n",
              "      background-color: #3B4455;\n",
              "      fill: #D2E3FC;\n",
              "    }\n",
              "\n",
              "    [theme=dark] .colab-df-convert:hover {\n",
              "      background-color: #434B5C;\n",
              "      box-shadow: 0px 1px 3px 1px rgba(0, 0, 0, 0.15);\n",
              "      filter: drop-shadow(0px 1px 2px rgba(0, 0, 0, 0.3));\n",
              "      fill: #FFFFFF;\n",
              "    }\n",
              "  </style>\n",
              "\n",
              "      <script>\n",
              "        const buttonEl =\n",
              "          document.querySelector('#df-e881f1a4-03f0-478e-a0a1-0ce138f6e76a button.colab-df-convert');\n",
              "        buttonEl.style.display =\n",
              "          google.colab.kernel.accessAllowed ? 'block' : 'none';\n",
              "\n",
              "        async function convertToInteractive(key) {\n",
              "          const element = document.querySelector('#df-e881f1a4-03f0-478e-a0a1-0ce138f6e76a');\n",
              "          const dataTable =\n",
              "            await google.colab.kernel.invokeFunction('convertToInteractive',\n",
              "                                                     [key], {});\n",
              "          if (!dataTable) return;\n",
              "\n",
              "          const docLinkHtml = 'Like what you see? Visit the ' +\n",
              "            '<a target=\"_blank\" href=https://colab.research.google.com/notebooks/data_table.ipynb>data table notebook</a>'\n",
              "            + ' to learn more about interactive tables.';\n",
              "          element.innerHTML = '';\n",
              "          dataTable['output_type'] = 'display_data';\n",
              "          await google.colab.output.renderOutput(dataTable, element);\n",
              "          const docLink = document.createElement('div');\n",
              "          docLink.innerHTML = docLinkHtml;\n",
              "          element.appendChild(docLink);\n",
              "        }\n",
              "      </script>\n",
              "    </div>\n",
              "  </div>\n",
              "  "
            ]
          },
          "metadata": {},
          "execution_count": 39
        }
      ]
    },
    {
      "cell_type": "code",
      "source": [
        "df_merged.shape"
      ],
      "metadata": {
        "colab": {
          "base_uri": "https://localhost:8080/"
        },
        "id": "7N7e7a1qN_ON",
        "outputId": "e2ef9061-0751-4d70-ab11-2a807db78054"
      },
      "execution_count": 40,
      "outputs": [
        {
          "output_type": "execute_result",
          "data": {
            "text/plain": [
              "(12000, 16)"
            ]
          },
          "metadata": {},
          "execution_count": 40
        }
      ]
    },
    {
      "cell_type": "code",
      "source": [
        "df_merged.dtypes"
      ],
      "metadata": {
        "colab": {
          "base_uri": "https://localhost:8080/"
        },
        "id": "7xAepJM--ySj",
        "outputId": "74c3f922-d378-4c69-c024-2e285edbf4ad"
      },
      "execution_count": 41,
      "outputs": [
        {
          "output_type": "execute_result",
          "data": {
            "text/plain": [
              "creation_source                object\n",
              "opted_in_to_mailing_list        int64\n",
              "enabled_for_marketing_drip      int64\n",
              "org_id                          int64\n",
              "invited_by_user_id            float64\n",
              "is_adopted                    float64\n",
              "is_invited                      int64\n",
              "year                            int64\n",
              "month                           int64\n",
              "day                             int64\n",
              "weekday                         int64\n",
              "creation_year                   int64\n",
              "creation_month                  int64\n",
              "creation_date                   int64\n",
              "creation_day                    int64\n",
              "age                           float64\n",
              "dtype: object"
            ]
          },
          "metadata": {},
          "execution_count": 41
        }
      ]
    },
    {
      "cell_type": "code",
      "source": [
        "df_merged[\"invited_by_user_id\"].nunique()"
      ],
      "metadata": {
        "id": "PpE90ZbdGoxn",
        "colab": {
          "base_uri": "https://localhost:8080/"
        },
        "outputId": "a603ecde-cf2b-4b16-c20e-d8330ca5c360"
      },
      "execution_count": 42,
      "outputs": [
        {
          "output_type": "execute_result",
          "data": {
            "text/plain": [
              "2565"
            ]
          },
          "metadata": {},
          "execution_count": 42
        }
      ]
    },
    {
      "cell_type": "code",
      "source": [
        "# To use \"invited_by_user_id\" categorical variable, I have to label encode it.\n",
        "# One hot encoding is not a feasible option here."
      ],
      "metadata": {
        "id": "H1PKcKtowItr"
      },
      "execution_count": 43,
      "outputs": []
    },
    {
      "cell_type": "code",
      "source": [
        "df_merged[\"org_id\"].nunique()"
      ],
      "metadata": {
        "colab": {
          "base_uri": "https://localhost:8080/"
        },
        "id": "bRTS1DFSM8rR",
        "outputId": "590cd008-aad8-4b25-e72b-90067c081ff1"
      },
      "execution_count": 44,
      "outputs": [
        {
          "output_type": "execute_result",
          "data": {
            "text/plain": [
              "417"
            ]
          },
          "metadata": {},
          "execution_count": 44
        }
      ]
    },
    {
      "cell_type": "code",
      "source": [
        "# Again I have to use label encoding instead of one hot encoding."
      ],
      "metadata": {
        "id": "qY0M7XUqwe9C"
      },
      "execution_count": 45,
      "outputs": []
    },
    {
      "cell_type": "code",
      "source": [
        "df_merged[\"opted_in_to_mailing_list\"].nunique()"
      ],
      "metadata": {
        "colab": {
          "base_uri": "https://localhost:8080/"
        },
        "id": "5wAJvIrLNMfy",
        "outputId": "37e1c122-6f15-49a5-d4dd-2899e4939f5a"
      },
      "execution_count": 46,
      "outputs": [
        {
          "output_type": "execute_result",
          "data": {
            "text/plain": [
              "2"
            ]
          },
          "metadata": {},
          "execution_count": 46
        }
      ]
    },
    {
      "cell_type": "code",
      "source": [
        "# Checking whether balanced or imbalanced\n",
        "df_merged[\"is_adopted\"].value_counts(normalize=True)*100"
      ],
      "metadata": {
        "colab": {
          "base_uri": "https://localhost:8080/"
        },
        "id": "HFrrAftCr6P_",
        "outputId": "ba5accd1-2d71-4954-caa8-8c6c193eb63f"
      },
      "execution_count": 47,
      "outputs": [
        {
          "output_type": "execute_result",
          "data": {
            "text/plain": [
              "0.0    86.65\n",
              "1.0    13.35\n",
              "Name: is_adopted, dtype: float64"
            ]
          },
          "metadata": {},
          "execution_count": 47
        }
      ]
    },
    {
      "cell_type": "code",
      "source": [
        "# Only 13.35% data belongs to the class 1 and the rest is class 0\n",
        "# The dataset is highly imbalanced and we have to take care of it.\n",
        "# Here I will use SMOTE technique to oversample the dataset."
      ],
      "metadata": {
        "id": "ObeJswI2syZk"
      },
      "execution_count": 48,
      "outputs": []
    },
    {
      "cell_type": "code",
      "source": [
        "# Understanding How many of the signed up users are actually adopted user\n",
        "group_sum   = df_merged.groupby(by=\"creation_source\").sum()[\"is_adopted\"]\n",
        "group_count =df_merged.groupby(by=\"creation_source\").count()[\"is_adopted\"]\n",
        "\n",
        "group_sum/group_count"
      ],
      "metadata": {
        "colab": {
          "base_uri": "https://localhost:8080/"
        },
        "id": "VkzbQ-e6_ntP",
        "outputId": "afc3f14a-6af3-426c-d5a3-579d12ad1945"
      },
      "execution_count": 49,
      "outputs": [
        {
          "output_type": "execute_result",
          "data": {
            "text/plain": [
              "creation_source\n",
              "GUEST_INVITE          0.166436\n",
              "ORG_INVITE            0.129995\n",
              "PERSONAL_PROJECTS     0.077688\n",
              "SIGNUP                0.140393\n",
              "SIGNUP_GOOGLE_AUTH    0.167509\n",
              "Name: is_adopted, dtype: float64"
            ]
          },
          "metadata": {},
          "execution_count": 49
        }
      ]
    },
    {
      "cell_type": "code",
      "source": [
        "# Visualising the same with a barplot\n",
        "sns.barplot(x=\"creation_source\", y=\"is_adopted\", data= df_merged , order= group_sum.index);"
      ],
      "metadata": {
        "colab": {
          "base_uri": "https://localhost:8080/",
          "height": 281
        },
        "id": "Ed12uG5UAUrV",
        "outputId": "7a236896-d520-4dc6-8d4a-d0ca0554f98d"
      },
      "execution_count": 50,
      "outputs": [
        {
          "output_type": "display_data",
          "data": {
            "text/plain": [
              "<Figure size 432x288 with 1 Axes>"
            ],
            "image/png": "[encoded data removed]"
          },
          "metadata": {
            "needs_background": "light"
          }
        }
      ]
    },
    {
      "cell_type": "code",
      "source": [
        "# Those who are invited by guests, or those who joined using google authorization are usually more adopted."
      ],
      "metadata": {
        "id": "ke4fVNdeAUcS"
      },
      "execution_count": 51,
      "outputs": []
    },
    {
      "cell_type": "code",
      "source": [
        "sns.barplot(x=\"opted_in_to_mailing_list\", y=\"is_adopted\", data= df_merged);"
      ],
      "metadata": {
        "colab": {
          "base_uri": "https://localhost:8080/",
          "height": 280
        },
        "id": "xmwngRc6DY9K",
        "outputId": "dcacaf9d-29b1-4a87-9ae1-29e91fdc76ca"
      },
      "execution_count": 52,
      "outputs": [
        {
          "output_type": "display_data",
          "data": {
            "text/plain": [
              "<Figure size 432x288 with 1 Axes>"
            ],
            "image/png": "[encoded data removed]"
          },
          "metadata": {
            "needs_background": "light"
          }
        }
      ]
    },
    {
      "cell_type": "code",
      "source": [
        "sns.barplot(x=\"enabled_for_marketing_drip\", y=\"is_adopted\", data= df_merged);"
      ],
      "metadata": {
        "colab": {
          "base_uri": "https://localhost:8080/",
          "height": 283
        },
        "id": "6pR5rEb50za0",
        "outputId": "8502d0e4-f310-4749-f670-12c6290042d6"
      },
      "execution_count": 53,
      "outputs": [
        {
          "output_type": "display_data",
          "data": {
            "text/plain": [
              "<Figure size 432x288 with 1 Axes>"
            ],
            "image/png": "[encoded data removed]"
          },
          "metadata": {
            "needs_background": "light"
          }
        }
      ]
    },
    {
      "cell_type": "code",
      "source": [
        "sns.barplot(x=\"is_invited\", y=\"is_adopted\", data= df_merged);"
      ],
      "metadata": {
        "colab": {
          "base_uri": "https://localhost:8080/",
          "height": 280
        },
        "id": "QrXdshDo08-c",
        "outputId": "028043a0-b312-40f3-f759-e5c48125495f"
      },
      "execution_count": 55,
      "outputs": [
        {
          "output_type": "display_data",
          "data": {
            "text/plain": [
              "<Figure size 432x288 with 1 Axes>"
            ],
            "image/png": "[encoded data removed]"
          },
          "metadata": {
            "needs_background": "light"
          }
        }
      ]
    },
    {
      "cell_type": "code",
      "source": [
        "sns.barplot(x=\"creation_year\", y=\"is_adopted\", data= df_merged);"
      ],
      "metadata": {
        "colab": {
          "base_uri": "https://localhost:8080/",
          "height": 280
        },
        "id": "27XGnohl19o8",
        "outputId": "8ee67791-1723-41ec-d3ea-e1a99a3b0d39"
      },
      "execution_count": 57,
      "outputs": [
        {
          "output_type": "display_data",
          "data": {
            "text/plain": [
              "<Figure size 432x288 with 1 Axes>"
            ],
            "image/png": "[encoded data removed]"
          },
          "metadata": {
            "needs_background": "light"
          }
        }
      ]
    },
    {
      "cell_type": "code",
      "source": [
        "sns.barplot(x=\"year\", y=\"is_adopted\", data= df_merged);"
      ],
      "metadata": {
        "colab": {
          "base_uri": "https://localhost:8080/",
          "height": 279
        },
        "id": "5udzSQbm2_Mm",
        "outputId": "6a3b7739-6e63-4ecb-c411-64fbe841be0f"
      },
      "execution_count": 58,
      "outputs": [
        {
          "output_type": "display_data",
          "data": {
            "text/plain": [
              "<Figure size 432x288 with 1 Axes>"
            ],
            "image/png": "[encoded data removed]"
          },
          "metadata": {
            "needs_background": "light"
          }
        }
      ]
    },
    {
      "cell_type": "code",
      "source": [
        "df_merged.groupby(by=\"is_adopted\").mean()[\"age\"]"
      ],
      "metadata": {
        "colab": {
          "base_uri": "https://localhost:8080/"
        },
        "id": "LmXXjnex3d44",
        "outputId": "ba1c7584-fb69-48fd-a3ec-4801eeae0640"
      },
      "execution_count": 60,
      "outputs": [
        {
          "output_type": "execute_result",
          "data": {
            "text/plain": [
              "is_adopted\n",
              "0.0      4.000289\n",
              "1.0    300.200999\n",
              "Name: age, dtype: float64"
            ]
          },
          "metadata": {},
          "execution_count": 60
        }
      ]
    },
    {
      "cell_type": "code",
      "source": [
        "# Performing one hot encoding\n",
        "df_merged = pd.get_dummies(data=df_merged, columns=[\"creation_source\"])"
      ],
      "metadata": {
        "id": "MqGl8iZrTNes"
      },
      "execution_count": null,
      "outputs": []
    },
    {
      "cell_type": "code",
      "source": [
        "df_merged.head()"
      ],
      "metadata": {
        "colab": {
          "base_uri": "https://localhost:8080/",
          "height": 270
        },
        "id": "t_swrwr-dapy",
        "outputId": "7f4b72a2-325f-4b6f-8f08-28e634264d66"
      },
      "execution_count": null,
      "outputs": [
        {
          "output_type": "execute_result",
          "data": {
            "text/plain": [
              "   opted_in_to_mailing_list  enabled_for_marketing_drip  org_id  \\\n",
              "0                         1                           0      11   \n",
              "1                         0                           0       1   \n",
              "2                         0                           0      94   \n",
              "3                         0                           0       1   \n",
              "4                         0                           0     193   \n",
              "\n",
              "   invited_by_user_id  is_adopted  is_invited  year  month  day  weekday  \\\n",
              "0             10803.0         0.0           1  2014      4   22        1   \n",
              "1               316.0         1.0           1  2014      3   31        0   \n",
              "2              1525.0         0.0           1  2013      3   19        1   \n",
              "3              5151.0         0.0           1  2013      5   22        2   \n",
              "4              5240.0         0.0           1  2013      1   22        1   \n",
              "\n",
              "   creation_year  creation_month  creation_date  creation_day    age  \\\n",
              "0           2014               4             22             1    0.0   \n",
              "1           2013              11             15             4  136.0   \n",
              "2           2013               3             19             1    0.0   \n",
              "3           2013               5             21             1    1.0   \n",
              "4           2013               1             17             3    5.0   \n",
              "\n",
              "   creation_source_GUEST_INVITE  creation_source_ORG_INVITE  \\\n",
              "0                             1                           0   \n",
              "1                             0                           1   \n",
              "2                             0                           1   \n",
              "3                             1                           0   \n",
              "4                             1                           0   \n",
              "\n",
              "   creation_source_PERSONAL_PROJECTS  creation_source_SIGNUP  \\\n",
              "0                                  0                       0   \n",
              "1                                  0                       0   \n",
              "2                                  0                       0   \n",
              "3                                  0                       0   \n",
              "4                                  0                       0   \n",
              "\n",
              "   creation_source_SIGNUP_GOOGLE_AUTH  \n",
              "0                                   0  \n",
              "1                                   0  \n",
              "2                                   0  \n",
              "3                                   0  \n",
              "4                                   0  "
            ],
            "text/html": [
              "\n",
              "  <div id=\"df-9a6c12aa-3a93-4da0-aeb7-34029e25079b\">\n",
              "    <div class=\"colab-df-container\">\n",
              "      <div>\n",
              "<style scoped>\n",
              "    .dataframe tbody tr th:only-of-type {\n",
              "        vertical-align: middle;\n",
              "    }\n",
              "\n",
              "    .dataframe tbody tr th {\n",
              "        vertical-align: top;\n",
              "    }\n",
              "\n",
              "    .dataframe thead th {\n",
              "        text-align: right;\n",
              "    }\n",
              "</style>\n",
              "<table border=\"1\" class=\"dataframe\">\n",
              "  <thead>\n",
              "    <tr style=\"text-align: right;\">\n",
              "      <th></th>\n",
              "      <th>opted_in_to_mailing_list</th>\n",
              "      <th>enabled_for_marketing_drip</th>\n",
              "      <th>org_id</th>\n",
              "      <th>invited_by_user_id</th>\n",
              "      <th>is_adopted</th>\n",
              "      <th>is_invited</th>\n",
              "      <th>year</th>\n",
              "      <th>month</th>\n",
              "      <th>day</th>\n",
              "      <th>weekday</th>\n",
              "      <th>creation_year</th>\n",
              "      <th>creation_month</th>\n",
              "      <th>creation_date</th>\n",
              "      <th>creation_day</th>\n",
              "      <th>age</th>\n",
              "      <th>creation_source_GUEST_INVITE</th>\n",
              "      <th>creation_source_ORG_INVITE</th>\n",
              "      <th>creation_source_PERSONAL_PROJECTS</th>\n",
              "      <th>creation_source_SIGNUP</th>\n",
              "      <th>creation_source_SIGNUP_GOOGLE_AUTH</th>\n",
              "    </tr>\n",
              "  </thead>\n",
              "  <tbody>\n",
              "    <tr>\n",
              "      <th>0</th>\n",
              "      <td>1</td>\n",
              "      <td>0</td>\n",
              "      <td>11</td>\n",
              "      <td>10803.0</td>\n",
              "      <td>0.0</td>\n",
              "      <td>1</td>\n",
              "      <td>2014</td>\n",
              "      <td>4</td>\n",
              "      <td>22</td>\n",
              "      <td>1</td>\n",
              "      <td>2014</td>\n",
              "      <td>4</td>\n",
              "      <td>22</td>\n",
              "      <td>1</td>\n",
              "      <td>0.0</td>\n",
              "      <td>1</td>\n",
              "      <td>0</td>\n",
              "      <td>0</td>\n",
              "      <td>0</td>\n",
              "      <td>0</td>\n",
              "    </tr>\n",
              "    <tr>\n",
              "      <th>1</th>\n",
              "      <td>0</td>\n",
              "      <td>0</td>\n",
              "      <td>1</td>\n",
              "      <td>316.0</td>\n",
              "      <td>1.0</td>\n",
              "      <td>1</td>\n",
              "      <td>2014</td>\n",
              "      <td>3</td>\n",
              "      <td>31</td>\n",
              "      <td>0</td>\n",
              "      <td>2013</td>\n",
              "      <td>11</td>\n",
              "      <td>15</td>\n",
              "      <td>4</td>\n",
              "      <td>136.0</td>\n",
              "      <td>0</td>\n",
              "      <td>1</td>\n",
              "      <td>0</td>\n",
              "      <td>0</td>\n",
              "      <td>0</td>\n",
              "    </tr>\n",
              "    <tr>\n",
              "      <th>2</th>\n",
              "      <td>0</td>\n",
              "      <td>0</td>\n",
              "      <td>94</td>\n",
              "      <td>1525.0</td>\n",
              "      <td>0.0</td>\n",
              "      <td>1</td>\n",
              "      <td>2013</td>\n",
              "      <td>3</td>\n",
              "      <td>19</td>\n",
              "      <td>1</td>\n",
              "      <td>2013</td>\n",
              "      <td>3</td>\n",
              "      <td>19</td>\n",
              "      <td>1</td>\n",
              "      <td>0.0</td>\n",
              "      <td>0</td>\n",
              "      <td>1</td>\n",
              "      <td>0</td>\n",
              "      <td>0</td>\n",
              "      <td>0</td>\n",
              "    </tr>\n",
              "    <tr>\n",
              "      <th>3</th>\n",
              "      <td>0</td>\n",
              "      <td>0</td>\n",
              "      <td>1</td>\n",
              "      <td>5151.0</td>\n",
              "      <td>0.0</td>\n",
              "      <td>1</td>\n",
              "      <td>2013</td>\n",
              "      <td>5</td>\n",
              "      <td>22</td>\n",
              "      <td>2</td>\n",
              "      <td>2013</td>\n",
              "      <td>5</td>\n",
              "      <td>21</td>\n",
              "      <td>1</td>\n",
              "      <td>1.0</td>\n",
              "      <td>1</td>\n",
              "      <td>0</td>\n",
              "      <td>0</td>\n",
              "      <td>0</td>\n",
              "      <td>0</td>\n",
              "    </tr>\n",
              "    <tr>\n",
              "      <th>4</th>\n",
              "      <td>0</td>\n",
              "      <td>0</td>\n",
              "      <td>193</td>\n",
              "      <td>5240.0</td>\n",
              "      <td>0.0</td>\n",
              "      <td>1</td>\n",
              "      <td>2013</td>\n",
              "      <td>1</td>\n",
              "      <td>22</td>\n",
              "      <td>1</td>\n",
              "      <td>2013</td>\n",
              "      <td>1</td>\n",
              "      <td>17</td>\n",
              "      <td>3</td>\n",
              "      <td>5.0</td>\n",
              "      <td>1</td>\n",
              "      <td>0</td>\n",
              "      <td>0</td>\n",
              "      <td>0</td>\n",
              "      <td>0</td>\n",
              "    </tr>\n",
              "  </tbody>\n",
              "</table>\n",
              "</div>\n",
              "      <button class=\"colab-df-convert\" onclick=\"convertToInteractive('df-9a6c12aa-3a93-4da0-aeb7-34029e25079b')\"\n",
              "              title=\"Convert this dataframe to an interactive table.\"\n",
              "              style=\"display:none;\">\n",
              "        \n",
              "  <svg xmlns=\"http://www.w3.org/2000/svg\" height=\"24px\"viewBox=\"0 0 24 24\"\n",
              "       width=\"24px\">\n",
              "    <path d=\"M0 0h24v24H0V0z\" fill=\"none\"/>\n",
              "    <path d=\"M18.56 5.44l.94 2.06.94-2.06 2.06-.94-2.06-.94-.94-2.06-.94 2.06-2.06.94zm-11 1L8.5 8.5l.94-2.06 2.06-.94-2.06-.94L8.5 2.5l-.94 2.06-2.06.94zm10 10l.94 2.06.94-2.06 2.06-.94-2.06-.94-.94-2.06-.94 2.06-2.06.94z\"/><path d=\"M17.41 7.96l-1.37-1.37c-.4-.4-.92-.59-1.43-.59-.52 0-1.04.2-1.43.59L10.3 9.45l-7.72 7.72c-.78.78-.78 2.05 0 2.83L4 21.41c.39.39.9.59 1.41.59.51 0 1.02-.2 1.41-.59l7.78-7.78 2.81-2.81c.8-.78.8-2.07 0-2.86zM5.41 20L4 18.59l7.72-7.72 1.47 1.35L5.41 20z\"/>\n",
              "  </svg>\n",
              "      </button>\n",
              "      \n",
              "  <style>\n",
              "    .colab-df-container {\n",
              "      display:flex;\n",
              "      flex-wrap:wrap;\n",
              "      gap: 12px;\n",
              "    }\n",
              "\n",
              "    .colab-df-convert {\n",
              "      background-color: #E8F0FE;\n",
              "      border: none;\n",
              "      border-radius: 50%;\n",
              "      cursor: pointer;\n",
              "      display: none;\n",
              "      fill: #1967D2;\n",
              "      height: 32px;\n",
              "      padding: 0 0 0 0;\n",
              "      width: 32px;\n",
              "    }\n",
              "\n",
              "    .colab-df-convert:hover {\n",
              "      background-color: #E2EBFA;\n",
              "      box-shadow: 0px 1px 2px rgba(60, 64, 67, 0.3), 0px 1px 3px 1px rgba(60, 64, 67, 0.15);\n",
              "      fill: #174EA6;\n",
              "    }\n",
              "\n",
              "    [theme=dark] .colab-df-convert {\n",
              "      background-color: #3B4455;\n",
              "      fill: #D2E3FC;\n",
              "    }\n",
              "\n",
              "    [theme=dark] .colab-df-convert:hover {\n",
              "      background-color: #434B5C;\n",
              "      box-shadow: 0px 1px 3px 1px rgba(0, 0, 0, 0.15);\n",
              "      filter: drop-shadow(0px 1px 2px rgba(0, 0, 0, 0.3));\n",
              "      fill: #FFFFFF;\n",
              "    }\n",
              "  </style>\n",
              "\n",
              "      <script>\n",
              "        const buttonEl =\n",
              "          document.querySelector('#df-9a6c12aa-3a93-4da0-aeb7-34029e25079b button.colab-df-convert');\n",
              "        buttonEl.style.display =\n",
              "          google.colab.kernel.accessAllowed ? 'block' : 'none';\n",
              "\n",
              "        async function convertToInteractive(key) {\n",
              "          const element = document.querySelector('#df-9a6c12aa-3a93-4da0-aeb7-34029e25079b');\n",
              "          const dataTable =\n",
              "            await google.colab.kernel.invokeFunction('convertToInteractive',\n",
              "                                                     [key], {});\n",
              "          if (!dataTable) return;\n",
              "\n",
              "          const docLinkHtml = 'Like what you see? Visit the ' +\n",
              "            '<a target=\"_blank\" href=https://colab.research.google.com/notebooks/data_table.ipynb>data table notebook</a>'\n",
              "            + ' to learn more about interactive tables.';\n",
              "          element.innerHTML = '';\n",
              "          dataTable['output_type'] = 'display_data';\n",
              "          await google.colab.output.renderOutput(dataTable, element);\n",
              "          const docLink = document.createElement('div');\n",
              "          docLink.innerHTML = docLinkHtml;\n",
              "          element.appendChild(docLink);\n",
              "        }\n",
              "      </script>\n",
              "    </div>\n",
              "  </div>\n",
              "  "
            ]
          },
          "metadata": {},
          "execution_count": 109
        }
      ]
    },
    {
      "cell_type": "markdown",
      "source": [
        "# Model"
      ],
      "metadata": {
        "id": "8x5oYRdCGO3k"
      }
    },
    {
      "cell_type": "code",
      "source": [
        "# Define Features and Target\n",
        "X = df_merged.drop([\"is_adopted\",\"invited_by_user_id\"], axis=1)\n",
        "y = df_merged[\"is_adopted\"]\n",
        "X.shape, y.shape"
      ],
      "metadata": {
        "colab": {
          "base_uri": "https://localhost:8080/"
        },
        "id": "KZ3tzUQwNuGU",
        "outputId": "c737a24f-f9ac-4e66-ae7a-e66c1807d250"
      },
      "execution_count": null,
      "outputs": [
        {
          "output_type": "execute_result",
          "data": {
            "text/plain": [
              "((12000, 18), (12000,))"
            ]
          },
          "metadata": {},
          "execution_count": 110
        }
      ]
    },
    {
      "cell_type": "code",
      "source": [
        "# Splitting into train-test groups\n",
        "X_train, X_test, y_train, y_test = train_test_split(\n",
        "    X, y, test_size=.25, random_state=42)\n",
        "\n",
        "X_train.shape, X_test.shape"
      ],
      "metadata": {
        "colab": {
          "base_uri": "https://localhost:8080/"
        },
        "id": "a_mKQo-Sdlg4",
        "outputId": "e0c92c35-71c1-4b7b-caff-8fb88d1f7e9b"
      },
      "execution_count": null,
      "outputs": [
        {
          "output_type": "execute_result",
          "data": {
            "text/plain": [
              "((9000, 18), (3000, 18))"
            ]
          },
          "metadata": {},
          "execution_count": 111
        }
      ]
    },
    {
      "cell_type": "code",
      "source": [
        "# Over sampling using SMOTE\n",
        "from imblearn.over_sampling import SMOTE\n",
        "smote = SMOTE(sampling_strategy='minority', random_state=0)\n",
        "X_sm, y_sm = smote.fit_resample(X_train, y_train)"
      ],
      "metadata": {
        "id": "buTwC-j-Czlr"
      },
      "execution_count": null,
      "outputs": []
    },
    {
      "cell_type": "code",
      "source": [
        "# DT Model Hyper Parameter Optimization\n",
        "for depth in range(1,20,1):\n",
        "  model = DecisionTreeClassifier(max_depth = depth, random_state=0)\n",
        "  model.fit(X_sm, y_sm)\n",
        "  y_pred = model.predict(X_test)\n",
        "\n",
        "  print(\"Max Depth:\",depth, \"Train AUROC:\", round(roc_auc_score(y_train, model.predict(X_train)),4),\n",
        "        \"Test  AUROC:\", round(roc_auc_score(y_test, y_pred),4))"
      ],
      "metadata": {
        "id": "btAHQT2XamMM",
        "colab": {
          "base_uri": "https://localhost:8080/"
        },
        "outputId": "5afc11e9-d6cf-4f11-ac6b-6483dcf83b89"
      },
      "execution_count": null,
      "outputs": [
        {
          "output_type": "stream",
          "name": "stdout",
          "text": [
            "Max Depth: 1 Train AUROC: 0.9598 Test  AUROC: 0.9627\n",
            "Max Depth: 2 Train AUROC: 0.9598 Test  AUROC: 0.9627\n",
            "Max Depth: 3 Train AUROC: 0.957 Test  AUROC: 0.965\n",
            "Max Depth: 4 Train AUROC: 0.9568 Test  AUROC: 0.9607\n",
            "Max Depth: 5 Train AUROC: 0.9565 Test  AUROC: 0.9619\n",
            "Max Depth: 6 Train AUROC: 0.9624 Test  AUROC: 0.9561\n",
            "Max Depth: 7 Train AUROC: 0.964 Test  AUROC: 0.9552\n",
            "Max Depth: 8 Train AUROC: 0.9727 Test  AUROC: 0.9506\n",
            "Max Depth: 9 Train AUROC: 0.9754 Test  AUROC: 0.9479\n",
            "Max Depth: 10 Train AUROC: 0.9842 Test  AUROC: 0.9429\n",
            "Max Depth: 11 Train AUROC: 0.9904 Test  AUROC: 0.9341\n",
            "Max Depth: 12 Train AUROC: 0.9937 Test  AUROC: 0.9328\n",
            "Max Depth: 13 Train AUROC: 0.9951 Test  AUROC: 0.9314\n",
            "Max Depth: 14 Train AUROC: 0.9976 Test  AUROC: 0.9336\n",
            "Max Depth: 15 Train AUROC: 0.9987 Test  AUROC: 0.9357\n",
            "Max Depth: 16 Train AUROC: 0.9986 Test  AUROC: 0.9336\n",
            "Max Depth: 17 Train AUROC: 0.9989 Test  AUROC: 0.9364\n",
            "Max Depth: 18 Train AUROC: 0.9995 Test  AUROC: 0.9338\n",
            "Max Depth: 19 Train AUROC: 1.0 Test  AUROC: 0.9368\n"
          ]
        }
      ]
    },
    {
      "cell_type": "code",
      "source": [
        "# As it seems, max_depth = 3 is one of the best hyper parameters.\n",
        "model = DecisionTreeClassifier(max_depth = 5, random_state=0)\n",
        "model.fit(X_sm, y_sm)\n",
        "y_pred = model.predict(X_test)\n",
        "print(\"AUROC Score:\",round(roc_auc_score(y_test, y_pred),4))"
      ],
      "metadata": {
        "colab": {
          "base_uri": "https://localhost:8080/"
        },
        "id": "5nUCX4_CnlJY",
        "outputId": "456ab4cc-ae0d-491e-b574-b1cd71a49e22"
      },
      "execution_count": null,
      "outputs": [
        {
          "output_type": "stream",
          "name": "stdout",
          "text": [
            "AUROC Score: 0.9619\n"
          ]
        }
      ]
    },
    {
      "cell_type": "code",
      "source": [
        "# Confusion Matrix\n",
        "pd.crosstab(y_pred, y_test, normalize=\"columns\")"
      ],
      "metadata": {
        "colab": {
          "base_uri": "https://localhost:8080/",
          "height": 143
        },
        "id": "V4ou7EsfBBdg",
        "outputId": "4b78d4c9-d8ee-46c2-db7b-c1d17d210508"
      },
      "execution_count": null,
      "outputs": [
        {
          "output_type": "execute_result",
          "data": {
            "text/plain": [
              "is_adopted      0.0       1.0\n",
              "row_0                        \n",
              "0.0         0.95565  0.031941\n",
              "1.0         0.04435  0.968059"
            ],
            "text/html": [
              "\n",
              "  <div id=\"df-b58e13c1-4353-4638-9b01-a12bc2c1c910\">\n",
              "    <div class=\"colab-df-container\">\n",
              "      <div>\n",
              "<style scoped>\n",
              "    .dataframe tbody tr th:only-of-type {\n",
              "        vertical-align: middle;\n",
              "    }\n",
              "\n",
              "    .dataframe tbody tr th {\n",
              "        vertical-align: top;\n",
              "    }\n",
              "\n",
              "    .dataframe thead th {\n",
              "        text-align: right;\n",
              "    }\n",
              "</style>\n",
              "<table border=\"1\" class=\"dataframe\">\n",
              "  <thead>\n",
              "    <tr style=\"text-align: right;\">\n",
              "      <th>is_adopted</th>\n",
              "      <th>0.0</th>\n",
              "      <th>1.0</th>\n",
              "    </tr>\n",
              "    <tr>\n",
              "      <th>row_0</th>\n",
              "      <th></th>\n",
              "      <th></th>\n",
              "    </tr>\n",
              "  </thead>\n",
              "  <tbody>\n",
              "    <tr>\n",
              "      <th>0.0</th>\n",
              "      <td>0.95565</td>\n",
              "      <td>0.031941</td>\n",
              "    </tr>\n",
              "    <tr>\n",
              "      <th>1.0</th>\n",
              "      <td>0.04435</td>\n",
              "      <td>0.968059</td>\n",
              "    </tr>\n",
              "  </tbody>\n",
              "</table>\n",
              "</div>\n",
              "      <button class=\"colab-df-convert\" onclick=\"convertToInteractive('df-b58e13c1-4353-4638-9b01-a12bc2c1c910')\"\n",
              "              title=\"Convert this dataframe to an interactive table.\"\n",
              "              style=\"display:none;\">\n",
              "        \n",
              "  <svg xmlns=\"http://www.w3.org/2000/svg\" height=\"24px\"viewBox=\"0 0 24 24\"\n",
              "       width=\"24px\">\n",
              "    <path d=\"M0 0h24v24H0V0z\" fill=\"none\"/>\n",
              "    <path d=\"M18.56 5.44l.94 2.06.94-2.06 2.06-.94-2.06-.94-.94-2.06-.94 2.06-2.06.94zm-11 1L8.5 8.5l.94-2.06 2.06-.94-2.06-.94L8.5 2.5l-.94 2.06-2.06.94zm10 10l.94 2.06.94-2.06 2.06-.94-2.06-.94-.94-2.06-.94 2.06-2.06.94z\"/><path d=\"M17.41 7.96l-1.37-1.37c-.4-.4-.92-.59-1.43-.59-.52 0-1.04.2-1.43.59L10.3 9.45l-7.72 7.72c-.78.78-.78 2.05 0 2.83L4 21.41c.39.39.9.59 1.41.59.51 0 1.02-.2 1.41-.59l7.78-7.78 2.81-2.81c.8-.78.8-2.07 0-2.86zM5.41 20L4 18.59l7.72-7.72 1.47 1.35L5.41 20z\"/>\n",
              "  </svg>\n",
              "      </button>\n",
              "      \n",
              "  <style>\n",
              "    .colab-df-container {\n",
              "      display:flex;\n",
              "      flex-wrap:wrap;\n",
              "      gap: 12px;\n",
              "    }\n",
              "\n",
              "    .colab-df-convert {\n",
              "      background-color: #E8F0FE;\n",
              "      border: none;\n",
              "      border-radius: 50%;\n",
              "      cursor: pointer;\n",
              "      display: none;\n",
              "      fill: #1967D2;\n",
              "      height: 32px;\n",
              "      padding: 0 0 0 0;\n",
              "      width: 32px;\n",
              "    }\n",
              "\n",
              "    .colab-df-convert:hover {\n",
              "      background-color: #E2EBFA;\n",
              "      box-shadow: 0px 1px 2px rgba(60, 64, 67, 0.3), 0px 1px 3px 1px rgba(60, 64, 67, 0.15);\n",
              "      fill: #174EA6;\n",
              "    }\n",
              "\n",
              "    [theme=dark] .colab-df-convert {\n",
              "      background-color: #3B4455;\n",
              "      fill: #D2E3FC;\n",
              "    }\n",
              "\n",
              "    [theme=dark] .colab-df-convert:hover {\n",
              "      background-color: #434B5C;\n",
              "      box-shadow: 0px 1px 3px 1px rgba(0, 0, 0, 0.15);\n",
              "      filter: drop-shadow(0px 1px 2px rgba(0, 0, 0, 0.3));\n",
              "      fill: #FFFFFF;\n",
              "    }\n",
              "  </style>\n",
              "\n",
              "      <script>\n",
              "        const buttonEl =\n",
              "          document.querySelector('#df-b58e13c1-4353-4638-9b01-a12bc2c1c910 button.colab-df-convert');\n",
              "        buttonEl.style.display =\n",
              "          google.colab.kernel.accessAllowed ? 'block' : 'none';\n",
              "\n",
              "        async function convertToInteractive(key) {\n",
              "          const element = document.querySelector('#df-b58e13c1-4353-4638-9b01-a12bc2c1c910');\n",
              "          const dataTable =\n",
              "            await google.colab.kernel.invokeFunction('convertToInteractive',\n",
              "                                                     [key], {});\n",
              "          if (!dataTable) return;\n",
              "\n",
              "          const docLinkHtml = 'Like what you see? Visit the ' +\n",
              "            '<a target=\"_blank\" href=https://colab.research.google.com/notebooks/data_table.ipynb>data table notebook</a>'\n",
              "            + ' to learn more about interactive tables.';\n",
              "          element.innerHTML = '';\n",
              "          dataTable['output_type'] = 'display_data';\n",
              "          await google.colab.output.renderOutput(dataTable, element);\n",
              "          const docLink = document.createElement('div');\n",
              "          docLink.innerHTML = docLinkHtml;\n",
              "          element.appendChild(docLink);\n",
              "        }\n",
              "      </script>\n",
              "    </div>\n",
              "  </div>\n",
              "  "
            ]
          },
          "metadata": {},
          "execution_count": 126
        }
      ]
    },
    {
      "cell_type": "code",
      "source": [
        "# Observation: For both the classes, Recall value is very good. \n",
        "#              We are interested to predict the Class 1.\n",
        "#              Corresponding recall value is 0.968.\n",
        "#              Our model is capable enough to classify properly."
      ],
      "metadata": {
        "id": "pY6MH8YMzDGJ"
      },
      "execution_count": null,
      "outputs": []
    },
    {
      "cell_type": "code",
      "source": [
        "# Feature Importances\n",
        "feature = []\n",
        "for i in range(len(model.feature_importances_)):\n",
        "  feature.append([round(model.feature_importances_[i],4),model.feature_names_in_[i]])\n",
        "sorted(feature, reverse=True)"
      ],
      "metadata": {
        "colab": {
          "base_uri": "https://localhost:8080/"
        },
        "id": "wxmOGn_2j7cA",
        "outputId": "7e7d94a4-eebb-42ff-eb2d-6043f01f7034"
      },
      "execution_count": null,
      "outputs": [
        {
          "output_type": "execute_result",
          "data": {
            "text/plain": [
              "[[0.9745, 'age'],\n",
              " [0.0047, 'creation_day'],\n",
              " [0.0042, 'creation_source_SIGNUP'],\n",
              " [0.0041, 'opted_in_to_mailing_list'],\n",
              " [0.0032, 'is_invited'],\n",
              " [0.003, 'creation_date'],\n",
              " [0.0026, 'creation_source_PERSONAL_PROJECTS'],\n",
              " [0.0012, 'creation_source_ORG_INVITE'],\n",
              " [0.0008, 'weekday'],\n",
              " [0.0007, 'day'],\n",
              " [0.0007, 'creation_month'],\n",
              " [0.0002, 'org_id'],\n",
              " [0.0, 'year'],\n",
              " [0.0, 'month'],\n",
              " [0.0, 'enabled_for_marketing_drip'],\n",
              " [0.0, 'creation_year'],\n",
              " [0.0, 'creation_source_SIGNUP_GOOGLE_AUTH'],\n",
              " [0.0, 'creation_source_GUEST_INVITE']]"
            ]
          },
          "metadata": {},
          "execution_count": 127
        }
      ]
    },
    {
      "cell_type": "code",
      "source": [],
      "metadata": {
        "id": "MnyyNo36yz3K"
      },
      "execution_count": null,
      "outputs": []
    },
    {
      "cell_type": "code",
      "source": [],
      "metadata": {
        "id": "9YPpryA6yz0O"
      },
      "execution_count": null,
      "outputs": []
    },
    {
      "cell_type": "code",
      "source": [],
      "metadata": {
        "id": "A6cJCyqgyzw7"
      },
      "execution_count": null,
      "outputs": []
    },
    {
      "cell_type": "code",
      "source": [
        "# Question to Kousik:"
      ],
      "metadata": {
        "id": "jtVxejPVp37O"
      },
      "execution_count": null,
      "outputs": []
    },
    {
      "cell_type": "markdown",
      "source": [
        "Model 1: SMOTE + age; AUROC =.965, Recall High but Precission; Accuracy Low\n",
        "\n",
        "Model 2: SMOTE; AUROC = .94, Recall, Precission; Accuracy are both High\n",
        "\n",
        "Which model to choose?\n",
        "My answer: Model 1 should be used here as we are interested in predicting the Class 1 (adopted) properly.\n",
        "\n",
        "![after_SMOTE_AGE.png](data:image/png;base64,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)\n",
        "\n",
        "![after_smote_no_age.png](data:image/png;base64,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)"
      ],
      "metadata": {
        "id": "mkTm_rpVKHtA"
      }
    },
    {
      "cell_type": "code",
      "source": [],
      "metadata": {
        "id": "_G1e_4ocLOcW"
      },
      "execution_count": null,
      "outputs": []
    }
  ]
}